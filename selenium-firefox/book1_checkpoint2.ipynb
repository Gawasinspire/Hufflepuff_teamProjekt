{
 "cells": [
  {
   "cell_type": "code",
   "execution_count": 58,
   "id": "irish-reader",
   "metadata": {},
   "outputs": [],
   "source": [
    "from selenium import webdriver\n",
    "from selenium.webdriver.common.keys import Keys\n",
    "import pandas as pd\n",
    "import seaborn as sns\n",
    "\n",
    "from selenium.webdriver.firefox.options import Options\n",
    "from selenium.webdriver.common.by  import By as selenium_By\n",
    "from selenium.webdriver.support.ui import Select as selenium_Select\n",
    "from selenium.webdriver.support.ui import WebDriverWait as selenium_WebDriverWait\n",
    "from selenium.webdriver.support    import expected_conditions as selenium_ec\n",
    "from selenium.webdriver.firefox.options import Options as selenium_options\n",
    "from selenium.webdriver.common.desired_capabilities import DesiredCapabilities as selenium_DesiredCapabilities\n",
    "from selenium import webdriver as selenium_webdriver\n",
    "import time\n",
    "from datetime import datetime\n",
    "\n",
    "\n",
    "options = Options()\n",
    "options.headless = True\n",
    "# driver = webdriver.Firefox(options=options, executable_path=r'./drivers/geckodriver')"
   ]
  },
  {
   "cell_type": "code",
   "execution_count": 59,
   "id": "convenient-fiber",
   "metadata": {},
   "outputs": [],
   "source": [
    "browser = webdriver.Firefox(options=options,executable_path=\"./drivers/geckodriver\")  ## Firefox\n"
   ]
  },
  {
   "cell_type": "code",
   "execution_count": 60,
   "id": "legal-shark",
   "metadata": {},
   "outputs": [
    {
     "name": "stdout",
     "output_type": "stream",
     "text": [
      "/home/simple/ai/strive/git_strive/Team_Hufflepuff/selenium-firefox\n"
     ]
    }
   ],
   "source": [
    "## csv read\n",
    "import os\n",
    "cwd = os.getcwd()\n",
    "print(cwd)\n",
    "da = pd.read_csv('../links.csv')"
   ]
  },
  {
   "cell_type": "code",
   "execution_count": 67,
   "id": "impressed-imperial",
   "metadata": {},
   "outputs": [
    {
     "name": "stdout",
     "output_type": "stream",
     "text": [
      "https://www.goodreads.com//book/show/13496.A_Game_of_Thrones\n",
      "[['A Game of Thrones', 'George R.R. Martin', '55,493 reviews', '4.44'], ['J.R.R. Tolkien 4-Book Boxed Set: The Hobbit and The Lord of the Rings', 'J.R.R. Tolkien', '1,836 reviews', '4.60'], ['The Name of the Wind', 'Patrick Rothfuss', '43,979 reviews', '4.52'], ['The Way of Kings', 'Brandon Sanderson', '22,141 reviews', '4.61'], ['The Chronicles of Narnia', 'C.S. Lewis', '10,666 reviews', '4.26']]\n"
     ]
    }
   ],
   "source": [
    "df = da\n",
    "url_list = df['url'].tolist() \n",
    "print(url_list[0])\n",
    "#url = df.loc[0,0] # df.loc[row_indexer,column_indexer]\n",
    "\n",
    "# first dictionary 1....1000: 1(1...12), 2(1...12),...\n",
    "element_list = []\n",
    "\n",
    "for i in range(0,5):\n",
    "    browser = webdriver.Firefox(options=options,executable_path=\"./drivers/geckodriver\")\n",
    "    browser.get(url_list[i])  \n",
    "    #time.sleep(5)\n",
    "    browser.find_element_by_partial_link_text(\"More Details...\").click()\n",
    "    title = browser.find_element_by_id('bookTitle')\n",
    "    authorname = browser.find_element_by_class_name(\"authorName\") \n",
    "    num_review = browser.find_element_by_xpath(\"/html/body/div[2]/div[3]/div[1]/div[2]/div[4]/div[1]/div[2]/div[2]/a[3]\")\n",
    "    avg_rating = browser.find_element_by_xpath(\"/html/body/div[2]/div[3]/div[1]/div[2]/div[4]/div[1]/div[2]/div[2]/span[2]\")\n",
    "    details = browser.find_element_by_id(\"details\")\n",
    "    \n",
    "    element_list.append([title.text, authorname.text, num_review.text, avg_rating.text])\n",
    "        \n",
    "    #print(title.text)\n",
    "    #print(authorname.text)\n",
    "    #print(num_review.text)\n",
    "    #print(avg_rating.text)\n",
    "    ##print(details.text)\n",
    "    #print(num_pages.text)\n",
    "    #print(original_year.text)\n",
    "    #print(series.text)\n",
    "    #genre_list = [genre1.text, genre2.text, genre3.text]  # for i in genre\n",
    "    #print(genre_list)\n",
    "    #print(genre1.text)\n",
    "    #print(awards.text)\n",
    "    #print(places.text)\n",
    "    \n",
    "    browser.close()\n",
    "print(element_list)\n",
    "\n",
    "    # first dictionary 1....1000: 1(1...12), 2(1...12),...\n",
    "    "
   ]
  },
  {
   "cell_type": "code",
   "execution_count": 4,
   "id": "included-resort",
   "metadata": {},
   "outputs": [],
   "source": [
    "i = 0\n",
    "browser = webdriver.Firefox(executable_path=\"./drivers/geckodriver\")\n",
    "browser.get(url_list[i])\n",
    "#browser.get('https://www.lambdatest.com/')\n"
   ]
  },
  {
   "cell_type": "code",
   "execution_count": 7,
   "id": "continent-dream",
   "metadata": {},
   "outputs": [],
   "source": [
    "browser.find_element_by_partial_link_text(\"More Details...\").click()\n"
   ]
  },
  {
   "cell_type": "code",
   "execution_count": 31,
   "id": "adolescent-salon",
   "metadata": {},
   "outputs": [],
   "source": [
    "title = browser.find_element_by_xpath(\"/html/body/div[2]/div[3]/div[1]/div[2]/div[4]/div[1]/div[2]/div[5]/div[3]/div[1]/div[1]/div[2]\")                 # pages, \n",
    "authorname = browser.find_element_by_class_name(\"authorName\") \n",
    "num_review = browser.find_element_by_xpath(\"/html/body/div[2]/div[3]/div[1]/div[2]/div[4]/div[1]/div[2]/div[2]/a[3]\")\n",
    "avg_rating = browser.find_element_by_xpath(\"/html/body/div[2]/div[3]/div[1]/div[2]/div[4]/div[1]/div[2]/div[2]/span[2]\")\n",
    "num_pages = browser.find_element_by_xpath(\"/html/body/div[2]/div[3]/div[1]/div[2]/div[4]/div[1]/div[2]/div[5]/div[1]/span[2]\")\n",
    "original_year = browser.find_element_by_xpath(\"/html/body/div[2]/div[3]/div[1]/div[2]/div[4]/div[1]/div[2]/div[5]/div[2]\")\n",
    "series = browser.find_element_by_xpath(\"/html/body/div[2]/div[3]/div[1]/div[2]/div[4]/div[1]/div[2]/div[5]/div[3]/div[1]/div[4]/div[2]/a\")\n",
    "genre1 =  browser.find_element_by_xpath(\"/html/body/div[2]/div[3]/div[1]/div[2]/div[5]/div[7]/div/div[2]/div/div[1]/div[1]/a\")\n",
    "genre2 =  browser.find_element_by_xpath(\"/html/body/div[2]/div[3]/div[1]/div[2]/div[5]/div[7]/div/div[2]/div/div[2]/div[1]/a\")\n",
    "genre3 =  browser.find_element_by_xpath(\"/html/body/div[2]/div[3]/div[1]/div[2]/div[5]/div[7]/div/div[2]/div/div[3]/div[1]/a\")\n",
    "awards =  browser.find_element_by_xpath(\"/html/body/div[2]/div[3]/div[1]/div[2]/div[4]/div[1]/div[2]/div[5]/div[3]/div[1]/div[8]/div[2]\")\n",
    "places = browser.find_element_by_xpath(\"/html/body/div[2]/div[3]/div[1]/div[2]/div[4]/div[1]/div[2]/div[5]/div[3]/div[1]/div[7]/a\")\n"
   ]
  },
  {
   "cell_type": "code",
   "execution_count": null,
   "id": "indirect-trauma",
   "metadata": {},
   "outputs": [],
   "source": []
  },
  {
   "cell_type": "code",
   "execution_count": null,
   "id": "orange-survivor",
   "metadata": {},
   "outputs": [],
   "source": []
  },
  {
   "cell_type": "code",
   "execution_count": 42,
   "id": "bizarre-landscape",
   "metadata": {},
   "outputs": [],
   "source": [
    "element3 = browser.find_element_by_id(\"details\")                 # pages, \n",
    "element4 = browser.find_element_by_class_name(\"authorName\") \n",
    "element5 = browser.find_element_by_xpath(\"/html/body/div[2]/div[3]/div[1]/div[2]/div[4]/div[1]/div[2]/div[2]/a[3]\")\n",
    "element6 = browser.find_element_by_class_name(\"stars\")\n",
    "#element7 = browser.find_element_by_xpath(\"/html/body/div[2]/div[3]/div[1]/div[2]/div[5]/div[6]/div/div[2]/div\")"
   ]
  },
  {
   "cell_type": "code",
   "execution_count": 63,
   "id": "expressed-leeds",
   "metadata": {},
   "outputs": [
    {
     "name": "stdout",
     "output_type": "stream",
     "text": [
      "[['Packard 255 G2', '$416.99', '15.6\", AMD E2-3800 1.3GHz, 4GB, 500GB, Windows 8.1', '2 reviews'], ['Aspire E1-510', '$306.99', '15.6\", Pentium N3520 2.16GHz, 4GB, 500GB, Linux', '2 reviews'], ['ThinkPad T540p', '$1178.99', '15.6\", Core i5-4200M, 4GB, 500GB, Win7 Pro 64bit', '2 reviews'], ['ProBook', '$739.99', '14\", Core i5 2.6GHz, 4GB, 500GB, Win7 Pro 64bit', '8 reviews'], ['ThinkPad X240', '$1311.99', '12.5\", Core i5-4300U, 8GB, 240GB SSD, Win7 Pro 64bit', '12 reviews'], ['Aspire E1-572G', '$581.99', '15.6\", Core i5-4200U, 8GB, 1TB, Radeon R7 M265, Windows 8.1', '2 reviews'], ['ThinkPad Yoga', '$1033.99', '12.5\" Touch, Core i3-4010U, 4GB, 500GB + 16GB SSD Cache,', '13 reviews'], ['Pavilion', '$609.99', '15.6\", Core i5-4200U, 6GB, 750GB, Windows 8.1', '4 reviews'], ['Inspiron 15', '$745.99', 'Moon Silver, 15.6\", Core i7-4510U, 8GB, 1TB, Radeon HD R7 M265 2GB,', '12 reviews'], ['Dell XPS 13', '$1281.99', '13.3\" Touch, Core i5-4210U, 8GB, 128GB SSD, Windows 8.1', '4 reviews'], ['ThinkPad X230', '$1244.99', '12.5\", Core i5 2.6GHz, 8GB, 180GB SSD, Win7 Pro 64bit', '10 reviews'], ['HP 250 G3', '$520.99', '15.6\", Core i5-4210U, 4GB, 500GB, Windows 8.1', '13 reviews']]\n"
     ]
    }
   ],
   "source": [
    "# importing necessary packages\n",
    "from selenium import webdriver\n",
    "from selenium.webdriver.common.keys import Keys\n",
    "import pandas as pd\n",
    "import seaborn as sns\n",
    "\n",
    "from selenium.webdriver.firefox.options import Options\n",
    "from selenium.webdriver.common.by  import By as selenium_By\n",
    "from selenium.webdriver.support.ui import Select as selenium_Select\n",
    "from selenium.webdriver.support.ui import WebDriverWait as selenium_WebDriverWait\n",
    "from selenium.webdriver.support    import expected_conditions as selenium_ec\n",
    "from selenium.webdriver.firefox.options import Options as selenium_options\n",
    "from selenium.webdriver.common.desired_capabilities import DesiredCapabilities as selenium_DesiredCapabilities\n",
    "from selenium import webdriver as selenium_webdriver\n",
    "import time\n",
    "from datetime import datetime\n",
    "\n",
    "\n",
    "options = Options()\n",
    "options.headless = True\n",
    "driver = webdriver.Firefox(options=options, executable_path=r'./drivers/geckodriver')\n",
    "# for holding the resultant list\n",
    "element_list = []\n",
    "  \n",
    "for page in range(1, 3, 1):\n",
    "    \n",
    "    page_url = \"https://webscraper.io/test-sites/e-commerce/static/computers/laptops?page=\" + str(page)\n",
    "    #driver = webdriver.Chrome(ChromeDriverManager().install())\n",
    "    driver.get(page_url)\n",
    "    title = driver.find_elements_by_class_name(\"title\")\n",
    "    price = driver.find_elements_by_class_name(\"price\")\n",
    "    description = driver.find_elements_by_class_name(\"description\")\n",
    "    rating = driver.find_elements_by_class_name(\"ratings\")\n",
    "  \n",
    "    for i in range(len(title)):\n",
    "        element_list.append([title[i].text, price[i].text, description[i].text, rating[i].text])\n",
    "\n",
    "print(element_list)\n",
    "  \n",
    "#closing the driver\n",
    "driver.close()"
   ]
  },
  {
   "cell_type": "code",
   "execution_count": 44,
   "id": "derived-thesaurus",
   "metadata": {},
   "outputs": [
    {
     "name": "stdout",
     "output_type": "stream",
     "text": [
      "Headless Firefox Initialized\n"
     ]
    }
   ],
   "source": [
    "from selenium import webdriver\n",
    "\n",
    "driver.get(\"http://google.com/\")\n",
    "print (\"Headless Firefox Initialized\")\n",
    "driver.quit()\n"
   ]
  },
  {
   "cell_type": "code",
   "execution_count": null,
   "id": "tribal-pastor",
   "metadata": {},
   "outputs": [],
   "source": [
    "browser.quit()"
   ]
  }
 ],
 "metadata": {
  "kernelspec": {
   "display_name": "Python 3",
   "language": "python",
   "name": "python3"
  },
  "language_info": {
   "codemirror_mode": {
    "name": "ipython",
    "version": 3
   },
   "file_extension": ".py",
   "mimetype": "text/x-python",
   "name": "python",
   "nbconvert_exporter": "python",
   "pygments_lexer": "ipython3",
   "version": "3.9.2"
  }
 },
 "nbformat": 4,
 "nbformat_minor": 5
}
