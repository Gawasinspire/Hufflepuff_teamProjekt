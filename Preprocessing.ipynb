{
 "cells": [
  {
   "cell_type": "code",
   "execution_count": null,
   "id": "emotional-cabin",
   "metadata": {},
   "outputs": [],
   "source": [
    "import pandas as pd\n",
    "\n",
    "\n",
    "\n",
    "\n",
    "\n",
    "def minmax(list_of_values):\n",
    "    \n",
    "    \n",
    "    \n",
    "\n",
    "\n",
    "df = pd.read_csv(\"file.csv\",sep=',') #read from file\n",
    "\n",
    "df.dropna()  #remove none values\n",
    "\n",
    "#create a new column where the values are the length of the awards list\n",
    "df['awards_int'] = df.apply (lambda row: row.len(awards), axis=1)\n",
    "\n",
    "#for minmax_norm_rating we need to use \n",
    "df['col1'] = df['col1'].apply(complex_function)\n",
    "\n",
    "\n",
    " "
   ]
  }
 ],
 "metadata": {
  "kernelspec": {
   "display_name": "Python 3",
   "language": "python",
   "name": "python3"
  },
  "language_info": {
   "codemirror_mode": {
    "name": "ipython",
    "version": 3
   },
   "file_extension": ".py",
   "mimetype": "text/x-python",
   "name": "python",
   "nbconvert_exporter": "python",
   "pygments_lexer": "ipython3",
   "version": "3.9.2"
  }
 },
 "nbformat": 4,
 "nbformat_minor": 5
}
