{
 "cells": [
  {
   "cell_type": "code",
   "execution_count": 4,
   "id": "configured-responsibility",
   "metadata": {},
   "outputs": [],
   "source": [
    "import PySimpleGUI as sg"
   ]
  },
  {
   "cell_type": "code",
   "execution_count": 6,
   "id": "engaging-recommendation",
   "metadata": {},
   "outputs": [],
   "source": [
    "# hello_psg.py\n",
    "\n",
    "layout = [[sg.Text(\"Hello from PySimpleGUI\")], [sg.Button(\"OK\")]]\n",
    "\n",
    "# Create the window\n",
    "window = sg.Window(\"Demo\", layout)\n",
    "\n",
    "while True:\n",
    "    event, values = window.read()\n",
    "    # End program if user closes window or\n",
    "    # presses the OK button\n",
    "    if event == \"OK\" or event == sg.WIN_CLOSED:\n",
    "        break\n",
    "\n",
    "window.close()\n"
   ]
  },
  {
   "cell_type": "code",
   "execution_count": 4,
   "id": "north-spirituality",
   "metadata": {},
   "outputs": [
    {
     "name": "stdout",
     "output_type": "stream",
     "text": [
      "Hello Gavas ! Thanks for trying PySimpleGUI\n"
     ]
    }
   ],
   "source": [
    "import PySimpleGUI as sg                        # Part 1 - The import\n",
    "\n",
    "# Define the window's contents\n",
    "layout = [  [sg.Text(\"What's your name?\")],     # Part 2 - The Layout\n",
    "            [sg.Input()],\n",
    "            [sg.Button('Ok')] ]\n",
    "\n",
    "# Create the window\n",
    "window = sg.Window('Window Title', layout)      # Part 3 - Window Defintion\n",
    "\n",
    "# Display and interact with the Window\n",
    "event, values = window.read()                   # Part 4 - Event loop or Window.read call\n",
    "\n",
    "# Do something with the information gathered\n",
    "print('Hello', values[0], \"! Thanks for trying PySimpleGUI\")\n",
    "\n",
    "# Finish up by removing from the screen\n",
    "window.close()      "
   ]
  },
  {
   "cell_type": "code",
   "execution_count": 13,
   "id": "attached-tablet",
   "metadata": {},
   "outputs": [],
   "source": [
    "import PySimpleGUI as sg\n",
    "\n",
    "# Define the window's contents\n",
    "layout = [[sg.Text(\"What's your name?\")],\n",
    "          [sg.Input(key='-INPUT-')],\n",
    "          [sg.Text(size=(40,1), key='-OUTPUT-')],\n",
    "          [sg.Button('Ok'), sg.Button('Quit')]]\n",
    "\n",
    "# Create the window\n",
    "window = sg.Window('Window Title', layout)\n",
    "\n",
    "# Display and interact with the Window using an Event Loop\n",
    "while True:\n",
    "    event, values = window.read()\n",
    "    # See if user wants to quit or window was closed\n",
    "    if event == sg.WINDOW_CLOSED or event == 'Quit':\n",
    "        break\n",
    "    # Output a message to the window\n",
    "    window['-OUTPUT-'].update('Hello ' + values['-INPUT-'] + \"! Thanks for trying PySimpleGUI\")\n",
    "\n",
    "# Finish up by removing from the screen\n",
    "window.close()"
   ]
  },
  {
   "cell_type": "code",
   "execution_count": 6,
   "id": "empty-decision",
   "metadata": {},
   "outputs": [],
   "source": [
    "import PySimpleGUI as sg\n",
    "\n",
    "layout = [[sg.Button(f'{row}, {col}') for col in range(4)] for row in range(4)]\n",
    "\n",
    "event, values = sg.Window('List Comprehensions', layout).read(close=True)\n"
   ]
  },
  {
   "cell_type": "code",
   "execution_count": 12,
   "id": "passive-problem",
   "metadata": {},
   "outputs": [],
   "source": [
    "event, values = sg.Window('Window Title', [[sg.Text(\"What's your name?\")],[sg.Input()],[sg.Button('Ok')]]).read(close=True)\n"
   ]
  },
  {
   "cell_type": "code",
   "execution_count": null,
   "id": "green-receptor",
   "metadata": {},
   "outputs": [],
   "source": [
    " # PySimpleGUI to PySimpleGUIQt, PySimpleGUIWx, PySimpleGUIWeb"
   ]
  },
  {
   "cell_type": "code",
   "execution_count": 11,
   "id": "strategic-terminology",
   "metadata": {},
   "outputs": [
    {
     "data": {
      "text/plain": [
       "'OK'"
      ]
     },
     "execution_count": 11,
     "metadata": {},
     "output_type": "execute_result"
    }
   ],
   "source": [
    "import PySimpleGUI as sg\n",
    "\n",
    "#window = sg.Window('My window', layout, no_titlebar=True, alpha_channel=0.5)\n",
    "filename = sg.popup_get_file('Enter the file you wish to process')\n",
    "sg.popup('You entered', filename)\n"
   ]
  },
  {
   "cell_type": "code",
   "execution_count": 55,
   "id": "rocky-segment",
   "metadata": {},
   "outputs": [
    {
     "name": "stdout",
     "output_type": "stream",
     "text": [
      "None {0: None}\n"
     ]
    }
   ],
   "source": [
    "import PySimpleGUI as sg\n",
    "\n",
    "sg.theme('DarkAmber')  # No gray windows please!\n",
    "\n",
    "# STEP 1 define the layout\n",
    "layout = [ \n",
    "            [sg.Text('This is a very basic PySimpleGUI layout')],\n",
    "            [sg.Input()],\n",
    "            [sg.Button('Button'), sg.Button('Exit')]\n",
    "         ]\n",
    "\n",
    "#STEP 2 - create the window\n",
    "window = sg.Window('My new window', layout, grab_anywhere=True)\n",
    "\n",
    "# STEP3 - the event loop\n",
    "while True:\n",
    "    event, values = window.read()   # Read the event that happened and the values dictionary\n",
    "    print(event, values)\n",
    "    if event == sg.WIN_CLOSED or event == 'Exit':     # If user closed window with X or if user clicked \"Exit\" button then exit\n",
    "        break\n",
    "    if event == 'Button':\n",
    "        print('You pressed the button')\n",
    "window.close()\n"
   ]
  },
  {
   "cell_type": "code",
   "execution_count": 10,
   "id": "higher-flour",
   "metadata": {},
   "outputs": [
    {
     "name": "stdout",
     "output_type": "stream",
     "text": [
      "Exit {0: ''}\n"
     ]
    }
   ],
   "source": [
    "import PySimpleGUI as sg\n",
    "\n",
    "sg.theme('DarkAmber')  # No gray windows please!\n",
    "\n",
    "# STEP 1 define the layout\n",
    "layout = [ \n",
    "            [sg.Text('This is a very basic PySimpleGUI layout')],\n",
    "            [sg.Input()],\n",
    "            [sg.Button('Button'), sg.Button('Exit')]\n",
    "         ]\n",
    "\n",
    "#STEP 2 - create the window\n",
    "window = sg.Window('My new window', layout, grab_anywhere=True)\n",
    "\n",
    "# STEP3 - the event loop\n",
    "while True:\n",
    "    event, values = window.read()   # Read the event that happened and the values dictionary\n",
    "    print(event, values)\n",
    "    if event == sg.WIN_CLOSED or event == 'Exit':     # If user closed window with X or if user clicked \"Exit\" button then exit\n",
    "        break\n",
    "    if event == 'Button':\n",
    "        print('You pressed the button')\n",
    "window.close()\n"
   ]
  },
  {
   "cell_type": "code",
   "execution_count": 12,
   "id": "empirical-compound",
   "metadata": {},
   "outputs": [
    {
     "data": {
      "text/plain": [
       "'OK'"
      ]
     },
     "execution_count": 12,
     "metadata": {},
     "output_type": "execute_result"
    }
   ],
   "source": [
    "import PySimpleGUI as sg      \n",
    "\n",
    "layout = [[sg.Text('My one-shot window.')],      \n",
    "                 [sg.InputText()],      \n",
    "                 [sg.Submit(), sg.Cancel()]]      \n",
    "\n",
    "window = sg.Window('Window Title', layout)    \n",
    "\n",
    "event, values = window.read()    \n",
    "window.close()\n",
    "\n",
    "text_input = values[0]    \n",
    "sg.popup('You entered', text_input)"
   ]
  },
  {
   "cell_type": "code",
   "execution_count": 13,
   "id": "metropolitan-metro",
   "metadata": {},
   "outputs": [
    {
     "data": {
      "text/plain": [
       "'OK'"
      ]
     },
     "execution_count": 13,
     "metadata": {},
     "output_type": "execute_result"
    }
   ],
   "source": [
    "import PySimpleGUI as sg      \n",
    "\n",
    "layout = [[sg.Text('My one-shot window.')],      \n",
    "                 [sg.InputText(key='-IN-')],      \n",
    "                 [sg.Submit(), sg.Cancel()]]      \n",
    "\n",
    "window = sg.Window('Window Title', layout)    \n",
    "\n",
    "event, values = window.read()    \n",
    "window.close()\n",
    "\n",
    "text_input = values['-IN-']    \n",
    "sg.popup('You entered', text_input)"
   ]
  },
  {
   "cell_type": "code",
   "execution_count": 14,
   "id": "floppy-christian",
   "metadata": {},
   "outputs": [],
   "source": [
    "import PySimpleGUI as sg\n",
    "\n",
    "event, values = sg.Window('Login Window',\n",
    "                  [[sg.T('Enter your Login ID'), sg.In(key='-ID-')],\n",
    "                  [sg.B('OK'), sg.B('Cancel') ]]).read(close=True)\n",
    "\n",
    "login_id = values['-ID-']"
   ]
  },
  {
   "cell_type": "code",
   "execution_count": 15,
   "id": "black-timothy",
   "metadata": {},
   "outputs": [
    {
     "name": "stdout",
     "output_type": "stream",
     "text": [
      "Read {'-IN-': 'what'}\n",
      "Read {'-IN-': 'what'}\n",
      "Exit {'-IN-': 'what'}\n"
     ]
    }
   ],
   "source": [
    "import PySimpleGUI as sg      \n",
    "\n",
    "sg.theme('DarkAmber')    # Keep things interesting for your users\n",
    "\n",
    "layout = [[sg.Text('Persistent window')],      \n",
    "          [sg.Input(key='-IN-')],      \n",
    "          [sg.Button('Read'), sg.Exit()]]      \n",
    "\n",
    "window = sg.Window('Window that stays open', layout)      \n",
    "\n",
    "while True:                             # The Event Loop\n",
    "    event, values = window.read() \n",
    "    print(event, values)       \n",
    "    if event == sg.WIN_CLOSED or event == 'Exit':\n",
    "        break      \n",
    "\n",
    "window.close()"
   ]
  },
  {
   "cell_type": "code",
   "execution_count": 50,
   "id": "framed-scientist",
   "metadata": {},
   "outputs": [
    {
     "name": "stdout",
     "output_type": "stream",
     "text": [
      "Exit {'-IN-': ''}\n"
     ]
    }
   ],
   "source": [
    "import PySimpleGUI as sg\n",
    "\n",
    "sg.theme('BluePurple')\n",
    "layout = [[sg.Text('Your typed chars appear here:'), sg.Text(size=(15,1), key='-OUTPUT-')],\n",
    "          [sg.Input(key='-IN-')],\n",
    "          [sg.Button('Show'), sg.Button('Exit')]]\n",
    "\n",
    "window = sg.Window('Pattern 2B', layout)\n",
    "\n",
    "while True:  # Event Loop\n",
    "    event, values = window.read()\n",
    "    print(event, values)\n",
    "    if event == sg.WIN_CLOSED or event == 'Exit':\n",
    "        break\n",
    "    if event == 'Show':\n",
    "        # Update the \"output\" text element to be the value of \"input\" element\n",
    "        window['-OUTPUT-'].update(values['-IN-'])\n",
    "\n",
    "window.close()"
   ]
  },
  {
   "cell_type": "code",
   "execution_count": 30,
   "id": "split-nebraska",
   "metadata": {},
   "outputs": [],
   "source": []
  },
  {
   "cell_type": "code",
   "execution_count": null,
   "id": "peripheral-siemens",
   "metadata": {},
   "outputs": [],
   "source": []
  },
  {
   "cell_type": "code",
   "execution_count": 25,
   "id": "increased-yield",
   "metadata": {},
   "outputs": [
    {
     "name": "stdout",
     "output_type": "stream",
     "text": [
      "/home/simple/ai/strive/Team_Hufflepuff/selenium-firefox\n"
     ]
    }
   ],
   "source": [
    "import PySimpleGUI as sg\n",
    "import os\n",
    "sg.theme('DarkBlue')\n",
    "sg.set_options(font=('Courier New', 20))\n",
    "\n",
    "layout = [\n",
    "    [\n",
    "        sg.Text('Select'),\n",
    "        sg.Combo(['one', 'two'], tooltip=\"choose something\", ),\n",
    "    ]\n",
    "]\n",
    "\n",
    "sg.Window(\"hello!\", layout, icon='index_2.ico').read(close=True)\n",
    "\n",
    "cwd = os.getcwd()\n",
    "print(cwd)"
   ]
  },
  {
   "cell_type": "code",
   "execution_count": 53,
   "id": "polar-efficiency",
   "metadata": {},
   "outputs": [],
   "source": [
    "import PySimpleGUI as sg\n",
    "#Import the Time Library for use in this script\n",
    "import time\n",
    "sg.theme('DarkGrey13')\n",
    "#this is for the Layout Design of the Window\n",
    "layout = [[sg.Text('Custom Text')],\n",
    "          [sg.Image(r'../index.png')],\n",
    "              [sg.ProgressBar(1, orientation='h', size=(20, 20), key='progress')],\n",
    "          ]\n",
    "#This Creates the Physical Window\n",
    "#window = sg.Window('Window Title', layout).Finalize()\n",
    "#window = sg.Window('PSG System Dashboard', layout, no_titlebar=True, alpha_channel=.5, grab_anywhere=True).Finalize()\n",
    "window = sg.Window('Memorand', layout, resizable=True, icon='../index.png').Finalize()\n",
    "progress_bar = window.FindElement('progress')\n",
    "\n",
    "#This Updates the Window\n",
    "#progress_bar.UpdateBar(Current Value to show, Maximum Value to show)\n",
    "progress_bar.UpdateBar(0, 5)\n",
    "#adding time.sleep(length in Seconds) has been used to Simulate adding your script in between Bar Updates\n",
    "time.sleep(.5)\n",
    "\n",
    "progress_bar.UpdateBar(1, 5)\n",
    "time.sleep(.5)\n",
    "\n",
    "progress_bar.UpdateBar(2, 5)\n",
    "time.sleep(.5)\n",
    "\n",
    "progress_bar.UpdateBar(3, 5)\n",
    "time.sleep(.5)\n",
    "\n",
    "progress_bar.UpdateBar(4, 5)\n",
    "time.sleep(.5)\n",
    "\n",
    "progress_bar.UpdateBar(5, 5)\n",
    "time.sleep(.5)\n",
    "#I paused for 3 seconds at the end to give you time to see it has completed before closing the window\n",
    "#time.sleep(3)\n",
    "\n",
    "#This will Close The Window\n",
    "window.Close()\n"
   ]
  },
  {
   "cell_type": "code",
   "execution_count": 41,
   "id": "driving-overview",
   "metadata": {},
   "outputs": [],
   "source": [
    "import PySimpleGUI as psg\n",
    "#set the theme for the screen/window\n",
    "psg.theme(\"LightPurple\")\n",
    "#define layout\n",
    "layout=[[psg.Text(\"Name\",size=(15, 1), font='Lucida',justification='right'),psg.Input()],\n",
    "        [psg.Text(\"Date of Birth\",size=(15, 1), font=(\"Verdana\",11),text_color='Black',background_color='Yellow', justification='right'),psg.Input()],\n",
    "        [psg.Text(\"Class\",size=(15, 1), font=(\"Verdana\",11),text_color='Red',justification='right'),psg.Input('M.Sc', background_color='Yellow')],\n",
    "        [psg.Text(\"Address\",size=(15, 1), font=(\"Arial\",11),text_color='Green',justification='right'),psg.Multiline()],\n",
    "        [psg.Button(\"SAVE\", font=(\"Times New Roman\",12)),psg.Button(\"CANCEL\", font=(\"Times New Roman\",12))]]\n",
    "#Define Window\n",
    "win =psg.Window(\"Data Entry\",layout)\n",
    "#Read  values entered by user\n",
    "e,v=win.read()\n",
    "#close first window\n",
    "\n",
    "layout1=[[psg.Text(\"The data you entered is  :\", size=(20,1), font='Lucida', text_color='Magenta')],\n",
    "        [psg.Text(\"Name :\"+v[0], size=(20,1), font='Lucida', text_color='Blue')],\n",
    "        [psg.Text(\"DOB :\"+v[1], size=(20,1), font='Lucida', text_color='Lime')],\n",
    "        [psg.Text(\"Class  :\"+v[2], size=(len(v[2])+10,1), font='Lucida', text_color='Yellow')],\n",
    "        [psg.Text(\"Address  :\"+v[3], size=(int(len(v[3])/4),4), font='Lucida', text_color='Brown', justification='center')]]\n",
    "#Define Window and display the layout to print output        \n",
    "win1=psg.Window(\"Output Screen\",layout1)\n",
    "\n",
    "e,v=win1.read()\n",
    "win.close()\n",
    "#close second window\n",
    "win1.close()"
   ]
  },
  {
   "cell_type": "code",
   "execution_count": null,
   "id": "accompanied-experience",
   "metadata": {},
   "outputs": [],
   "source": []
  },
  {
   "cell_type": "code",
   "execution_count": 40,
   "id": "conventional-fraud",
   "metadata": {},
   "outputs": [],
   "source": [
    "#define layout for second windows to display data entered by user in first window\n",
    "layout1=[[psg.Text(\"The data you entered is  :\", size=(20,1), font='Lucida', text_color='Magenta')],\n",
    "        [psg.Text(\"Name :\"+v[0], size=(20,1), font='Lucida', text_color='Blue')],\n",
    "        [psg.Text(\"DOB :\"+v[1], size=(20,1), font='Lucida', text_color='Lime')],\n",
    "        [psg.Text(\"Class  :\"+v[2], size=(len(v[2])+10,1), font='Lucida', text_color='Yellow')],\n",
    "        [psg.Text(\"Address  :\"+v[3], size=(int(len(v[3])/4),4), font='Lucida', text_color='Brown', justification='center')]]\n",
    "#Define Window and display the layout to print output        \n",
    "win1=psg.Window(\"Output Screen\",layout1)  \n",
    "\n",
    "e,v=win1.read()\n",
    "#close second window\n",
    "win1.close()"
   ]
  },
  {
   "cell_type": "code",
   "execution_count": null,
   "id": "wrapped-diary",
   "metadata": {},
   "outputs": [],
   "source": []
  }
 ],
 "metadata": {
  "kernelspec": {
   "display_name": "Python 3",
   "language": "python",
   "name": "python3"
  },
  "language_info": {
   "codemirror_mode": {
    "name": "ipython",
    "version": 3
   },
   "file_extension": ".py",
   "mimetype": "text/x-python",
   "name": "python",
   "nbconvert_exporter": "python",
   "pygments_lexer": "ipython3",
   "version": "3.9.2"
  }
 },
 "nbformat": 4,
 "nbformat_minor": 5
}
