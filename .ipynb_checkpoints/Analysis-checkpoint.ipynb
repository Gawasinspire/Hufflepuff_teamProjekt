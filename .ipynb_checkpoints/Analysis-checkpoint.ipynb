{
 "cells": [
  {
   "cell_type": "code",
   "execution_count": null,
   "id": "everyday-murder",
   "metadata": {},
   "outputs": [],
   "source": [
    "#README FIRST\n",
    "\n",
    "''' This function analyses the data as required in the AI Code week 1. \n",
    "\n",
    "Data comes from a .csv file that contains information about 1000 books, scraped from:\n",
    "https://www.goodreads.com/list/popular_lists\n",
    "Selecting just The Best Epic Fantasy (fiction) list. \n",
    "The scraping code can be found here: \n",
    "\n",
    "Columns of the Book Dataframe are: \n",
    "\n",
    "url (str)\n",
    "title (str)\n",
    "author (str)\n",
    "num_reviews (int)\n",
    "num_ratings (int)\n",
    "avg_rating (float), from 1 to 5\n",
    "num_pages (int)\n",
    "original_publish_year (int)\n",
    "series (bool) False if not belonging to a series\n",
    "genres (str)\n",
    "awards (str)\n",
    "places (str)\n",
    "\n",
    "\n",
    "'''\n",
    "\n",
    "\n",
    "\n"
   ]
  }
 ],
 "metadata": {
  "kernelspec": {
   "display_name": "Python 3",
   "language": "python",
   "name": "python3"
  },
  "language_info": {
   "codemirror_mode": {
    "name": "ipython",
    "version": 3
   },
   "file_extension": ".py",
   "mimetype": "text/x-python",
   "name": "python",
   "nbconvert_exporter": "python",
   "pygments_lexer": "ipython3",
   "version": "3.9.2"
  }
 },
 "nbformat": 4,
 "nbformat_minor": 5
}
