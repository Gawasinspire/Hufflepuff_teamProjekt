{
 "cells": [
  {
   "cell_type": "code",
   "execution_count": 58,
   "id": "irish-reader",
   "metadata": {},
   "outputs": [],
   "source": [
    "from selenium import webdriver\n",
    "from selenium.webdriver.common.keys import Keys\n",
    "import pandas as pd\n",
    "import seaborn as sns\n",
    "\n",
    "from selenium.webdriver.firefox.options import Options\n",
    "from selenium.webdriver.common.by  import By as selenium_By\n",
    "from selenium.webdriver.support.ui import Select as selenium_Select\n",
    "from selenium.webdriver.support.ui import WebDriverWait as selenium_WebDriverWait\n",
    "from selenium.webdriver.support    import expected_conditions as selenium_ec\n",
    "from selenium.webdriver.firefox.options import Options as selenium_options\n",
    "from selenium.webdriver.common.desired_capabilities import DesiredCapabilities as selenium_DesiredCapabilities\n",
    "from selenium import webdriver as selenium_webdriver\n",
    "import time\n",
    "from datetime import datetime\n",
    "\n",
    "\n",
    "options = Options()\n",
    "options.headless = True\n",
    "# driver = webdriver.Firefox(options=options, executable_path=r'./drivers/geckodriver')"
   ]
  },
  {
   "cell_type": "code",
   "execution_count": 59,
   "id": "convenient-fiber",
   "metadata": {},
   "outputs": [],
   "source": [
    "browser = webdriver.Firefox(options=options,executable_path=\"./drivers/geckodriver\")  ## Firefox\n"
   ]
  },
  {
   "cell_type": "code",
   "execution_count": 60,
   "id": "legal-shark",
   "metadata": {},
   "outputs": [
    {
     "name": "stdout",
     "output_type": "stream",
     "text": [
      "/home/simple/ai/strive/git_strive/Team_Hufflepuff/selenium-firefox\n"
     ]
    }
   ],
   "source": [
    "## csv read\n",
    "import os\n",
    "cwd = os.getcwd()\n",
    "print(cwd)\n",
    "da = pd.read_csv('../links.csv')"
   ]
  },
  {
   "cell_type": "code",
   "execution_count": 117,
   "id": "impressed-imperial",
   "metadata": {},
   "outputs": [
    {
     "name": "stdout",
     "output_type": "stream",
     "text": [
      "https://www.goodreads.com//book/show/13496.A_Game_of_Thrones\n",
      "[]\n"
     ]
    }
   ],
   "source": [
    "df = da\n",
    "url_list = df['url'].tolist() \n",
    "print(url_list[0])\n",
    "#url = df.loc[0,0] # df.loc[row_indexer,column_indexer]\n",
    "\n",
    "# first dictionary 1....1000: 1(1...12), 2(1...12),...\n",
    "element_list = []\n",
    "details_list = []\n",
    "\n",
    "for i in range(0,1):\n",
    "    browser = webdriver.Firefox(options=options,executable_path=\"./drivers/geckodriver\")\n",
    "    browser.get(url_list[i])  \n",
    "    #time.sleep(5)\n",
    "    browser.find_element_by_partial_link_text(\"More Details...\").click()\n",
    "    title = browser.find_element_by_id('bookTitle')\n",
    "    authorname = browser.find_element_by_class_name(\"authorName\") \n",
    "    num_review = browser.find_element_by_xpath(\"/html/body/div[2]/div[3]/div[1]/div[2]/div[4]/div[1]/div[2]/div[2]/a[3]\")\n",
    "    avg_rating = browser.find_element_by_xpath(\"/html/body/div[2]/div[3]/div[1]/div[2]/div[4]/div[1]/div[2]/div[2]/span[2]\")\n",
    "    details = browser.find_element_by_id(\"details\")\n",
    "    temp1 = details.text.split(\"\\n\")\n",
    "    \n",
    "    page = 0\n",
    "    #pages\n",
    "    #txt = \"Hardcover, 1007 pages\"\n",
    "    pages = [int(s) for s in temp1[0].split() if s.isdigit()]\n",
    "    #print(type(pages))\n",
    "    \n",
    "    #year\n",
    "    #txt = \"Hardcover, 1007 pages\"\n",
    "    #year = 0\n",
    "    year = [int(s) for s in temp1[1].split() if s.isdigit()]\n",
    "    \n",
    "    #print(type(pages))\n",
    "    \n",
    "    #places\n",
    "    place = ''\n",
    "    for i in range(len(temp1)):\n",
    "        if(temp1[i]==\"Setting\"):\n",
    "            places = temp1[i+1]\n",
    "    \n",
    "    #details_list.append([temp1])\n",
    "    \n",
    "    # series\n",
    "    series = ''\n",
    "    for i in range(len(temp1)):\n",
    "        if(temp1[i] == \"Series\"):\n",
    "            series = temp1[i+1] \n",
    "    \n",
    "    # awards\n",
    "    awards = ''\n",
    "    for i in range(len(temp1)):\n",
    "        if(temp1[i] == \"Literary Awards\"):\n",
    "            awards = temp1[i+1]\n",
    "\n",
    "\n",
    "    \n",
    "    #genre_list = [genre1.text, genre2.text, genre3.text]  # for i in genre\n",
    "    \n",
    "    #el.find_element_by_class_name('value').find_element_by_tag_name('a').get_attribute('href')\n",
    "    \n",
    "    element_list.append([title.text, authorname.text, num_review.text, avg_rating.text,\\\n",
    "                         str(pages[0]), str(year[0]), places, series, awards] )\n",
    "   \n",
    "    #print(genre_list)\n",
    "    #print(genre1.text)\n",
    "    #print(awards.text)\n",
    "    #print(places.text)\n",
    "    \n",
    "    browser.close()\n",
    "#print(element_list)\n",
    "print(details_list)\n",
    "\n",
    "    # first dictionary 1....1000: 1(1...12), 2(1...12),...\n",
    "    "
   ]
  },
  {
   "cell_type": "code",
   "execution_count": 118,
   "id": "marine-latex",
   "metadata": {},
   "outputs": [
    {
     "name": "stdout",
     "output_type": "stream",
     "text": [
      "[['A Game of Thrones', 'George R.R. Martin', '55,493 reviews', '4.44', '835', '2005', 'The Lands of Ice and Fire', 'A Song of Ice and Fire #1', 'Nebula Award Nominee for Best Novel (1997), Locus Award for Best Fantasy Novel (1997), World Fantasy Award Nominee for Best Novel (1997), Premio Ignotus for Novela extranjera (2003)'], ['J.R.R. Tolkien 4-Book Boxed Set: The Hobbit and The Lord of the Rings', 'J.R.R. Tolkien', '1,836 reviews', '4.60', '1728', '2012', 'Middle-earth', 'The Lord of the Rings #0-3, Middle-earth Universe', ''], ['The Name of the Wind', 'Patrick Rothfuss', '43,979 reviews', '4.52', '662', '2007', 'Middle-earth', 'The Kingkiller Chronicle #1', \"Locus Award Nominee for Best First Novel and Best Fantasy Novel (2008), Compton Crook Award Nominee (2008), Grand Prix de l'Imaginaire Nominee for Roman étranger and Traduction (2010), ALA Alex Award (2008), The Quill Award for Science Fiction/Fantasy/Horror (2007) ...more\"], ['The Way of Kings', 'Brandon Sanderson', '22,141 reviews', '4.61', '1007', '2010', 'Roshar', 'The Stormlight Archive #1, The Cosmere', 'Locus Award Nominee for Best Fantasy Novel (2011), David Gemmell Legend Award for Best Fantasy Novel (2011), Whitney Award for Best Novel (2010), Goodreads Choice Award Nominee for Fantasy and for Favorite Book and for Goodreads Author (2010)'], ['The Chronicles of Narnia', 'C.S. Lewis', '10,666 reviews', '4.26', '767', '2002', 'London, England (United Kingdom)', 'The Chronicles of Narnia (Publication Order) #1–7, The Chronicles of Narnia (Chronological Order) #1–7', ''], ['The Eye of the World', 'Robert Jordan', '13,666 reviews', '4.17', '814', '1990', \"Emond's Field\", 'The Wheel of Time #1', 'Locus Award Nominee for Best Fantasy Book (1991)'], ['Mistborn: The Final Empire', 'Brandon Sanderson', '30,631 reviews', '4.44', '541', '2006', 'Luthadel', 'The Mistborn Saga #1, The Cosmere', 'Tähtifantasia Award Nominee (2018), Prix Elbakin.net for Meilleur roman fantasy traduit (2010)'], ['His Dark Materials', 'Philip Pullman', '5,320 reviews', '4.25', '1088', '2003', 'Oxford, England', 'His Dark Materials #1-3', 'Literaturpreis der Jury der jungen Leser for Kinderbuch (2002)'], ['Eragon', 'Christopher Paolini', '22,880 reviews', '3.91', '503', '2005', 'Alagaësia', 'The Inheritance Cycle #1', \"Book Sense Book of the Year Award for Children's Literature (2004), Books I Loved Best Yearly (BILBY) Awards for Older Readers (2007), South Carolina Book Award for Young Adult Book (2006), Grand Canyon Reader Award for Teen Book (2006), Nene Award (2006) ...more\"], [\"Assassin's Apprentice\", 'Robin Hobb', '10,738 reviews', '4.15', '435', '1996', 'Buckkeep', \"The Farseer Trilogy #1, L'Assassin royal #1, The Realm of the Elderlings #1, A Saga do Assassino #1 , more\", 'Locus Award Nominee for Fantasy (1996), British Fantasy Award Nominee for Best Novel (1997), Compton Crook Award (1996)) Nominee (1996)']]\n"
     ]
    }
   ],
   "source": [
    "print(element_list)\n",
    "#print(details.text)"
   ]
  },
  {
   "cell_type": "code",
   "execution_count": 107,
   "id": "external-russian",
   "metadata": {},
   "outputs": [
    {
     "ename": "IndexError",
     "evalue": "list index out of range",
     "output_type": "error",
     "traceback": [
      "\u001b[0;31m---------------------------------------------------------------------------\u001b[0m",
      "\u001b[0;31mIndexError\u001b[0m                                Traceback (most recent call last)",
      "\u001b[0;32m<ipython-input-107-4d7d87678b15>\u001b[0m in \u001b[0;36m<module>\u001b[0;34m\u001b[0m\n\u001b[1;32m      4\u001b[0m \u001b[0mnum\u001b[0m \u001b[0;34m=\u001b[0m \u001b[0;36m0\u001b[0m\u001b[0;34m\u001b[0m\u001b[0;34m\u001b[0m\u001b[0m\n\u001b[1;32m      5\u001b[0m \u001b[0mnum\u001b[0m \u001b[0;34m=\u001b[0m \u001b[0;34m[\u001b[0m\u001b[0mint\u001b[0m\u001b[0;34m(\u001b[0m\u001b[0ms\u001b[0m\u001b[0;34m)\u001b[0m \u001b[0;32mfor\u001b[0m \u001b[0ms\u001b[0m \u001b[0;32min\u001b[0m \u001b[0mtxt\u001b[0m\u001b[0;34m.\u001b[0m\u001b[0msplit\u001b[0m\u001b[0;34m(\u001b[0m\u001b[0;34m)\u001b[0m \u001b[0;32mif\u001b[0m \u001b[0ms\u001b[0m\u001b[0;34m.\u001b[0m\u001b[0misdigit\u001b[0m\u001b[0;34m(\u001b[0m\u001b[0;34m)\u001b[0m\u001b[0;34m]\u001b[0m\u001b[0;34m\u001b[0m\u001b[0;34m\u001b[0m\u001b[0m\n\u001b[0;32m----> 6\u001b[0;31m \u001b[0mprint\u001b[0m\u001b[0;34m(\u001b[0m\u001b[0mnum\u001b[0m\u001b[0;34m[\u001b[0m\u001b[0;36m0\u001b[0m\u001b[0;34m]\u001b[0m\u001b[0;34m)\u001b[0m\u001b[0;34m\u001b[0m\u001b[0;34m\u001b[0m\u001b[0m\n\u001b[0m\u001b[1;32m      7\u001b[0m \u001b[0mprint\u001b[0m\u001b[0;34m(\u001b[0m\u001b[0myear\u001b[0m\u001b[0;34m)\u001b[0m\u001b[0;34m\u001b[0m\u001b[0;34m\u001b[0m\u001b[0m\n",
      "\u001b[0;31mIndexError\u001b[0m: list index out of range"
     ]
    }
   ],
   "source": []
  },
  {
   "cell_type": "code",
   "execution_count": 4,
   "id": "included-resort",
   "metadata": {},
   "outputs": [],
   "source": [
    "i = 0\n",
    "browser = webdriver.Firefox(executable_path=\"./drivers/geckodriver\")\n",
    "browser.get(url_list[i])\n",
    "#browser.get('https://www.lambdatest.com/')\n"
   ]
  },
  {
   "cell_type": "code",
   "execution_count": 7,
   "id": "continent-dream",
   "metadata": {},
   "outputs": [],
   "source": [
    "browser.find_element_by_partial_link_text(\"More Details...\").click()\n"
   ]
  },
  {
   "cell_type": "code",
   "execution_count": 31,
   "id": "adolescent-salon",
   "metadata": {},
   "outputs": [],
   "source": [
    "title = browser.find_element_by_xpath(\"/html/body/div[2]/div[3]/div[1]/div[2]/div[4]/div[1]/div[2]/div[5]/div[3]/div[1]/div[1]/div[2]\")                 # pages, \n",
    "authorname = browser.find_element_by_class_name(\"authorName\") \n",
    "num_review = browser.find_element_by_xpath(\"/html/body/div[2]/div[3]/div[1]/div[2]/div[4]/div[1]/div[2]/div[2]/a[3]\")\n",
    "avg_rating = browser.find_element_by_xpath(\"/html/body/div[2]/div[3]/div[1]/div[2]/div[4]/div[1]/div[2]/div[2]/span[2]\")\n",
    "num_pages = browser.find_element_by_xpath(\"/html/body/div[2]/div[3]/div[1]/div[2]/div[4]/div[1]/div[2]/div[5]/div[1]/span[2]\")\n",
    "original_year = browser.find_element_by_xpath(\"/html/body/div[2]/div[3]/div[1]/div[2]/div[4]/div[1]/div[2]/div[5]/div[2]\")\n",
    "series = browser.find_element_by_xpath(\"/html/body/div[2]/div[3]/div[1]/div[2]/div[4]/div[1]/div[2]/div[5]/div[3]/div[1]/div[4]/div[2]/a\")\n",
    "genre1 =  browser.find_element_by_xpath(\"/html/body/div[2]/div[3]/div[1]/div[2]/div[5]/div[7]/div/div[2]/div/div[1]/div[1]/a\")\n",
    "genre2 =  browser.find_element_by_xpath(\"/html/body/div[2]/div[3]/div[1]/div[2]/div[5]/div[7]/div/div[2]/div/div[2]/div[1]/a\")\n",
    "genre3 =  browser.find_element_by_xpath(\"/html/body/div[2]/div[3]/div[1]/div[2]/div[5]/div[7]/div/div[2]/div/div[3]/div[1]/a\")\n",
    "awards =  browser.find_element_by_xpath(\"/html/body/div[2]/div[3]/div[1]/div[2]/div[4]/div[1]/div[2]/div[5]/div[3]/div[1]/div[8]/div[2]\")\n",
    "places = browser.find_element_by_xpath(\"/html/body/div[2]/div[3]/div[1]/div[2]/div[4]/div[1]/div[2]/div[5]/div[3]/div[1]/div[7]/a\")\n"
   ]
  },
  {
   "cell_type": "code",
   "execution_count": null,
   "id": "endangered-metro",
   "metadata": {},
   "outputs": [],
   "source": []
  },
  {
   "cell_type": "code",
   "execution_count": null,
   "id": "enhanced-avatar",
   "metadata": {},
   "outputs": [],
   "source": []
  },
  {
   "cell_type": "code",
   "execution_count": 42,
   "id": "bizarre-landscape",
   "metadata": {},
   "outputs": [],
   "source": [
    "element3 = browser.find_element_by_id(\"details\")                 # pages, \n",
    "element4 = browser.find_element_by_class_name(\"authorName\") \n",
    "element5 = browser.find_element_by_xpath(\"/html/body/div[2]/div[3]/div[1]/div[2]/div[4]/div[1]/div[2]/div[2]/a[3]\")\n",
    "element6 = browser.find_element_by_class_name(\"stars\")\n",
    "#element7 = browser.find_element_by_xpath(\"/html/body/div[2]/div[3]/div[1]/div[2]/div[5]/div[6]/div/div[2]/div\")"
   ]
  },
  {
   "cell_type": "code",
   "execution_count": 63,
   "id": "expressed-leeds",
   "metadata": {},
   "outputs": [
    {
     "name": "stdout",
     "output_type": "stream",
     "text": [
      "[['Packard 255 G2', '$416.99', '15.6\", AMD E2-3800 1.3GHz, 4GB, 500GB, Windows 8.1', '2 reviews'], ['Aspire E1-510', '$306.99', '15.6\", Pentium N3520 2.16GHz, 4GB, 500GB, Linux', '2 reviews'], ['ThinkPad T540p', '$1178.99', '15.6\", Core i5-4200M, 4GB, 500GB, Win7 Pro 64bit', '2 reviews'], ['ProBook', '$739.99', '14\", Core i5 2.6GHz, 4GB, 500GB, Win7 Pro 64bit', '8 reviews'], ['ThinkPad X240', '$1311.99', '12.5\", Core i5-4300U, 8GB, 240GB SSD, Win7 Pro 64bit', '12 reviews'], ['Aspire E1-572G', '$581.99', '15.6\", Core i5-4200U, 8GB, 1TB, Radeon R7 M265, Windows 8.1', '2 reviews'], ['ThinkPad Yoga', '$1033.99', '12.5\" Touch, Core i3-4010U, 4GB, 500GB + 16GB SSD Cache,', '13 reviews'], ['Pavilion', '$609.99', '15.6\", Core i5-4200U, 6GB, 750GB, Windows 8.1', '4 reviews'], ['Inspiron 15', '$745.99', 'Moon Silver, 15.6\", Core i7-4510U, 8GB, 1TB, Radeon HD R7 M265 2GB,', '12 reviews'], ['Dell XPS 13', '$1281.99', '13.3\" Touch, Core i5-4210U, 8GB, 128GB SSD, Windows 8.1', '4 reviews'], ['ThinkPad X230', '$1244.99', '12.5\", Core i5 2.6GHz, 8GB, 180GB SSD, Win7 Pro 64bit', '10 reviews'], ['HP 250 G3', '$520.99', '15.6\", Core i5-4210U, 4GB, 500GB, Windows 8.1', '13 reviews']]\n"
     ]
    }
   ],
   "source": [
    "# importing necessary packages\n",
    "from selenium import webdriver\n",
    "from selenium.webdriver.common.keys import Keys\n",
    "import pandas as pd\n",
    "import seaborn as sns\n",
    "\n",
    "from selenium.webdriver.firefox.options import Options\n",
    "from selenium.webdriver.common.by  import By as selenium_By\n",
    "from selenium.webdriver.support.ui import Select as selenium_Select\n",
    "from selenium.webdriver.support.ui import WebDriverWait as selenium_WebDriverWait\n",
    "from selenium.webdriver.support    import expected_conditions as selenium_ec\n",
    "from selenium.webdriver.firefox.options import Options as selenium_options\n",
    "from selenium.webdriver.common.desired_capabilities import DesiredCapabilities as selenium_DesiredCapabilities\n",
    "from selenium import webdriver as selenium_webdriver\n",
    "import time\n",
    "from datetime import datetime\n",
    "\n",
    "\n",
    "options = Options()\n",
    "options.headless = True\n",
    "driver = webdriver.Firefox(options=options, executable_path=r'./drivers/geckodriver')\n",
    "# for holding the resultant list\n",
    "element_list = []\n",
    "  \n",
    "for page in range(1, 3, 1):\n",
    "    \n",
    "    page_url = \"https://webscraper.io/test-sites/e-commerce/static/computers/laptops?page=\" + str(page)\n",
    "    #driver = webdriver.Chrome(ChromeDriverManager().install())\n",
    "    driver.get(page_url)\n",
    "    title = driver.find_elements_by_class_name(\"title\")\n",
    "    price = driver.find_elements_by_class_name(\"price\")\n",
    "    description = driver.find_elements_by_class_name(\"description\")\n",
    "    rating = driver.find_elements_by_class_name(\"ratings\")\n",
    "  \n",
    "    for i in range(len(title)):\n",
    "        element_list.append([title[i].text, price[i].text, description[i].text, rating[i].text])\n",
    "\n",
    "print(element_list)\n",
    "  \n",
    "#closing the driver\n",
    "driver.close()"
   ]
  },
  {
   "cell_type": "code",
   "execution_count": 44,
   "id": "derived-thesaurus",
   "metadata": {},
   "outputs": [
    {
     "name": "stdout",
     "output_type": "stream",
     "text": [
      "Headless Firefox Initialized\n"
     ]
    }
   ],
   "source": [
    "from selenium import webdriver\n",
    "\n",
    "driver.get(\"http://google.com/\")\n",
    "print (\"Headless Firefox Initialized\")\n",
    "driver.quit()\n"
   ]
  },
  {
   "cell_type": "code",
   "execution_count": null,
   "id": "tribal-pastor",
   "metadata": {},
   "outputs": [],
   "source": [
    "browser.quit()"
   ]
  }
 ],
 "metadata": {
  "kernelspec": {
   "display_name": "Python 3",
   "language": "python",
   "name": "python3"
  },
  "language_info": {
   "codemirror_mode": {
    "name": "ipython",
    "version": 3
   },
   "file_extension": ".py",
   "mimetype": "text/x-python",
   "name": "python",
   "nbconvert_exporter": "python",
   "pygments_lexer": "ipython3",
   "version": "3.9.2"
  }
 },
 "nbformat": 4,
 "nbformat_minor": 5
}
