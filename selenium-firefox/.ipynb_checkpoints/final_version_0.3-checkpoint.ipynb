{
 "cells": [
  {
   "cell_type": "code",
   "execution_count": 1,
   "id": "grand-cycling",
   "metadata": {},
   "outputs": [],
   "source": [
    "from selenium import webdriver\n",
    "import pandas as pd\n",
    "import numpy as np\n",
    "from selenium.webdriver.firefox.options import Options\n",
    "import time\n",
    "\n",
    "options = Options()\n",
    "options.headless = True\n"
   ]
  },
  {
   "cell_type": "code",
   "execution_count": 5,
   "id": "enclosed-photograph",
   "metadata": {},
   "outputs": [],
   "source": [
    "da = pd.read_csv('../links.csv')\n",
    "url_list = da['url'].tolist() "
   ]
  },
  {
   "cell_type": "code",
   "execution_count": 39,
   "id": "virtual-least",
   "metadata": {},
   "outputs": [
    {
     "name": "stdout",
     "output_type": "stream",
     "text": [
      "0 1 time taken: 29.540741682052612 seconds ---\n"
     ]
    }
   ],
   "source": [
    "myDict1 = {}\n",
    "start_time = time.time()\n",
    "  \n",
    "for page_num in range(0, 2):\n",
    "    print(page_num,end = \" \")\n",
    "    browser = webdriver.Firefox(options=options, executable_path=\"./drivers/geckodriver\")\n",
    "    browser.get(url_list[page_num])\n",
    "    browser.find_element_by_partial_link_text(\"More Details...\").click()\n",
    "    title = browser.find_element_by_id('bookTitle').text\n",
    "    author = browser.find_element_by_class_name(\"authorName\").text \n",
    "    avg_rating = browser.find_element_by_xpath(\"/html/body/div[2]/div[3]/div[1]/div[2]/div[4]/div[1]/div[2]/div[2]/span[2]\").text\n",
    "    num_rating = browser.find_element_by_xpath(\"/html/body/div[2]/div[3]/div[1]/div[2]/div[4]/div[1]/div[2]/div[2]/a[2]\").text\n",
    "    num_review = browser.find_element_by_xpath(\"/html/body/div[2]/div[3]/div[1]/div[2]/div[4]/div[1]/div[2]/div[2]/a[3]\").text\n",
    "    details = browser.find_element_by_id(\"details\")\n",
    "    temp1 = details.text.split(\"\\n\")\n",
    "    \n",
    "    page = 0\n",
    "    series = 0\n",
    "    \n",
    "    # num rating\n",
    "    try:\n",
    "        num_ratings = num_rating.split()[0]\n",
    "    except:\n",
    "        num_ratings = 0\n",
    "    \n",
    "    # num review\n",
    "    try:\n",
    "        num_reviews = num_review.split()[0]\n",
    "    except:\n",
    "        num_reviews = 0\n",
    "\n",
    "    places = np.nan\n",
    "    awards = np.nan\n",
    "\n",
    "    # total_pages\n",
    "    try:\n",
    "        num_pages = [int(s) for s in temp1[0].split() if s.isdigit()]\n",
    "        num_pages = str(total_pages[0])\n",
    "    except IndexError:\n",
    "        num_pages = np.nan\n",
    "\n",
    "    # year\n",
    "    try:\n",
    "        year = [int(s) for s in temp1[1].split() if s.isdigit()]\n",
    "        original_publish_year = str(year[0]) \n",
    "    except IndexError:\n",
    "        original_publish_year = np.nan\n",
    "\n",
    "    # places\n",
    "    for i in range(len(temp1)):\n",
    "        if(temp1[i]==\"Setting\"):\n",
    "            places = temp1[i+1]\n",
    "        \n",
    "    # series\n",
    "    for i in range(len(temp1)):\n",
    "        if(temp1[i] == \"Series\"):\n",
    "            series = 1\n",
    "\n",
    "    # Awards\n",
    "    for i in range(len(temp1)):\n",
    "        if(temp1[i] == \"Literary Awards\"):\n",
    "            awards = temp1[i+1]\n",
    "    \n",
    "    # genre\n",
    "    genre = browser.find_elements_by_css_selector(\"div.left>a.bookPageGenreLink\")\n",
    "    temp2 = [i.text for i in genre]\n",
    "\n",
    "    try:\n",
    "        genres = temp2[0:3]\n",
    "    except IndexError:\n",
    "        genres = np.nan\n",
    "\n",
    "    myDict1[page_num] = (url_list[page_num],title, author, avg_rating, num_ratings,  num_reviews,  num_pages, original_publish_year, places, series, awards, genres)\n",
    "    browser.close()\n",
    "\n",
    "print(\"time taken: %s seconds ---\" % (time.time() - start_time))\n",
    "df = pd.DataFrame.from_dict(myDict1, orient='index', columns=['url','title', 'author', 'num_reviews', 'num_ratings', 'avg_rating',  'num_pages', 'original_publish_year', 'series', 'genres', 'awards', 'places'])\n",
    "df.to_csv('filename.csv')"
   ]
  },
  {
   "cell_type": "code",
   "execution_count": 40,
   "id": "impaired-proportion",
   "metadata": {},
   "outputs": [
    {
     "data": {
      "text/html": [
       "<div>\n",
       "<style scoped>\n",
       "    .dataframe tbody tr th:only-of-type {\n",
       "        vertical-align: middle;\n",
       "    }\n",
       "\n",
       "    .dataframe tbody tr th {\n",
       "        vertical-align: top;\n",
       "    }\n",
       "\n",
       "    .dataframe thead th {\n",
       "        text-align: right;\n",
       "    }\n",
       "</style>\n",
       "<table border=\"1\" class=\"dataframe\">\n",
       "  <thead>\n",
       "    <tr style=\"text-align: right;\">\n",
       "      <th></th>\n",
       "      <th>url</th>\n",
       "      <th>title</th>\n",
       "      <th>authorname</th>\n",
       "      <th>num_rev</th>\n",
       "      <th>num_rat</th>\n",
       "      <th>avg_rating</th>\n",
       "      <th>total_pages</th>\n",
       "      <th>ori_year</th>\n",
       "      <th>series</th>\n",
       "      <th>genre3</th>\n",
       "      <th>awards</th>\n",
       "      <th>places</th>\n",
       "    </tr>\n",
       "  </thead>\n",
       "  <tbody>\n",
       "    <tr>\n",
       "      <th>0</th>\n",
       "      <td>https://www.goodreads.com//book/show/13496.A_G...</td>\n",
       "      <td>A Game of Thrones</td>\n",
       "      <td>George R.R. Martin</td>\n",
       "      <td>4.44</td>\n",
       "      <td>2,084,674</td>\n",
       "      <td>55,510</td>\n",
       "      <td>835</td>\n",
       "      <td>2005</td>\n",
       "      <td>The Lands of Ice and Fire</td>\n",
       "      <td>1</td>\n",
       "      <td>Nebula Award Nominee for Best Novel (1997), Lo...</td>\n",
       "      <td>[Fantasy, Fiction, Fantasy]</td>\n",
       "    </tr>\n",
       "    <tr>\n",
       "      <th>1</th>\n",
       "      <td>https://www.goodreads.com//book/show/30.J_R_R_...</td>\n",
       "      <td>J.R.R. Tolkien 4-Book Boxed Set: The Hobbit an...</td>\n",
       "      <td>J.R.R. Tolkien</td>\n",
       "      <td>4.60</td>\n",
       "      <td>114,607</td>\n",
       "      <td>1,837</td>\n",
       "      <td>1728</td>\n",
       "      <td>2012</td>\n",
       "      <td>Middle-earth</td>\n",
       "      <td>1</td>\n",
       "      <td>NaN</td>\n",
       "      <td>[Fantasy, Fiction, Classics]</td>\n",
       "    </tr>\n",
       "  </tbody>\n",
       "</table>\n",
       "</div>"
      ],
      "text/plain": [
       "                                                 url  \\\n",
       "0  https://www.goodreads.com//book/show/13496.A_G...   \n",
       "1  https://www.goodreads.com//book/show/30.J_R_R_...   \n",
       "\n",
       "                                               title          authorname  \\\n",
       "0                                  A Game of Thrones  George R.R. Martin   \n",
       "1  J.R.R. Tolkien 4-Book Boxed Set: The Hobbit an...      J.R.R. Tolkien   \n",
       "\n",
       "  num_rev    num_rat avg_rating total_pages ori_year  \\\n",
       "0    4.44  2,084,674     55,510         835     2005   \n",
       "1    4.60    114,607      1,837        1728     2012   \n",
       "\n",
       "                      series  genre3  \\\n",
       "0  The Lands of Ice and Fire       1   \n",
       "1               Middle-earth       1   \n",
       "\n",
       "                                              awards  \\\n",
       "0  Nebula Award Nominee for Best Novel (1997), Lo...   \n",
       "1                                                NaN   \n",
       "\n",
       "                         places  \n",
       "0   [Fantasy, Fiction, Fantasy]  \n",
       "1  [Fantasy, Fiction, Classics]  "
      ]
     },
     "execution_count": 40,
     "metadata": {},
     "output_type": "execute_result"
    }
   ],
   "source": [
    "df"
   ]
  },
  {
   "cell_type": "code",
   "execution_count": 10,
   "id": "lasting-superior",
   "metadata": {},
   "outputs": [],
   "source": [
    "df = pd.read_csv('final.csv')\n"
   ]
  },
  {
   "cell_type": "code",
   "execution_count": 12,
   "id": "involved-twelve",
   "metadata": {},
   "outputs": [
    {
     "data": {
      "text/plain": [
       "url             object\n",
       "title           object\n",
       "authorname      object\n",
       "avg_rating     float64\n",
       "num_rat          int64\n",
       "num_rev          int64\n",
       "total_pages    float64\n",
       "ori_year       float64\n",
       "places          object\n",
       "series           int64\n",
       "awards          object\n",
       "genre3          object\n",
       "dtype: object"
      ]
     },
     "execution_count": 12,
     "metadata": {},
     "output_type": "execute_result"
    }
   ],
   "source": [
    "df.dtypes"
   ]
  },
  {
   "cell_type": "code",
   "execution_count": 25,
   "id": "horizontal-activation",
   "metadata": {},
   "outputs": [],
   "source": [
    " df1 = df['url'].apply(lambda _: str(_))"
   ]
  },
  {
   "cell_type": "code",
   "execution_count": 30,
   "id": "transsexual-denver",
   "metadata": {},
   "outputs": [
    {
     "data": {
      "text/plain": [
       "url             string\n",
       "title           string\n",
       "authorname      string\n",
       "avg_rating     Float64\n",
       "num_rat          Int64\n",
       "num_rev          Int64\n",
       "total_pages      Int64\n",
       "ori_year         Int64\n",
       "places          string\n",
       "series           Int64\n",
       "awards          string\n",
       "genre3          string\n",
       "dtype: object"
      ]
     },
     "execution_count": 30,
     "metadata": {},
     "output_type": "execute_result"
    }
   ],
   "source": [
    "dfn = df.convert_dtypes()\n",
    "dfn.dtypes"
   ]
  },
  {
   "cell_type": "code",
   "execution_count": null,
   "id": "conscious-outdoors",
   "metadata": {},
   "outputs": [],
   "source": [
    "dfn['series'].dtype"
   ]
  },
  {
   "cell_type": "code",
   "execution_count": 35,
   "id": "awful-pavilion",
   "metadata": {},
   "outputs": [],
   "source": [
    "dfn['series'] = dfn['series'].astype('bool')"
   ]
  },
  {
   "cell_type": "code",
   "execution_count": 38,
   "id": "reduced-horizon",
   "metadata": {},
   "outputs": [],
   "source": [
    "dfn.to_csv('final_01.csv')"
   ]
  }
 ],
 "metadata": {
  "kernelspec": {
   "display_name": "Python 3",
   "language": "python",
   "name": "python3"
  },
  "language_info": {
   "codemirror_mode": {
    "name": "ipython",
    "version": 3
   },
   "file_extension": ".py",
   "mimetype": "text/x-python",
   "name": "python",
   "nbconvert_exporter": "python",
   "pygments_lexer": "ipython3",
   "version": "3.9.2"
  }
 },
 "nbformat": 4,
 "nbformat_minor": 5
}
