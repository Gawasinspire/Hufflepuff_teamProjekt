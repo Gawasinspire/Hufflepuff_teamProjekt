{
 "cells": [
  {
   "cell_type": "code",
   "execution_count": null,
   "id": "emotional-cabin",
   "metadata": {},
   "outputs": [],
   "source": [
    "import pandas as pd\n",
    "    \n",
    "def average_value(df,column_name):\n",
    "    average=df[column_name].mean()\n",
    "    return average\n",
    "\n",
    "def max_value(df,column_name):\n",
    "    max_value=df[column_name].max()\n",
    "    return max_value\n",
    "\n",
    "def min_value(df,column_name):\n",
    "    min_value=df[column_name].min()\n",
    "    return min_value\n",
    "\n",
    "def mean_norm(x):\n",
    "    mean_norm_rating=1+(x-x.mean())/(x.max()-x.min())*9\n",
    "    return mean_norm_rating\n",
    "\n",
    "def minmax(x):\n",
    "    minmax_norm_rating=1+(x-min_value(df,column_name))/(max_value(df,column_name)-min_value(df,column_name))*9\n",
    "    return minmax_norm_rating\n",
    "\n",
    "\n",
    "df = pd.read_csv(\"file.csv\",sep=',') #read from file\n",
    "\n",
    "#df.dropna()  #remove none values\n",
    "\n",
    "#create a new column where the values are the length of the awards list\n",
    "df['awards_int'] = df.apply (lambda row: row.len(awards), axis=1)\n",
    "\n",
    "#for minmax_norm_rating we need to use \n",
    "df['minmax_avg_rating'] = df['avg_rating'].apply(mean_norm)\n",
    "\n",
    "def total_impact_factor(table):\n",
    "    table['Total Impact Factor'] = table.apply( lambda row: round(float(row['Journal Impact Factor']) * float(row['count']),3) , axis = 1 )\n",
    "    return table\n",
    "\n",
    "X = df[“avg_rating”]\n",
    "X-X.mean()\n",
    "\n",
    " "
   ]
  }
 ],
 "metadata": {
  "kernelspec": {
   "display_name": "Python 3",
   "language": "python",
   "name": "python3"
  },
  "language_info": {
   "codemirror_mode": {
    "name": "ipython",
    "version": 3
   },
   "file_extension": ".py",
   "mimetype": "text/x-python",
   "name": "python",
   "nbconvert_exporter": "python",
   "pygments_lexer": "ipython3",
   "version": "3.9.2"
  }
 },
 "nbformat": 4,
 "nbformat_minor": 5
}
