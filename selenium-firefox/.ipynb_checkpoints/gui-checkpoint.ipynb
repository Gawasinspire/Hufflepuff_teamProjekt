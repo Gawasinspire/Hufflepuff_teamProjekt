{
 "cells": [
  {
   "cell_type": "code",
   "execution_count": 2,
   "id": "configured-responsibility",
   "metadata": {},
   "outputs": [],
   "source": [
    "import PySimpleGUI as sg"
   ]
  },
  {
   "cell_type": "code",
   "execution_count": null,
   "id": "engaging-recommendation",
   "metadata": {},
   "outputs": [],
   "source": [
    "# hello_psg.py\n",
    "\n",
    "#layout = [[sg.Text(\"Hello from PySimpleGUI\")], [sg.Button(\"OK\")]]\n",
    "\n",
    "# Create the window\n",
    "window = sg.Window(\"Demo\", layout) #sg.Window('My window', layout, no_titlebar=True, alpha_channel=0.7) #\n",
    "# sg.Window('My window', layout, no_titlebar=True, alpha_channel=0.5)\n",
    "# Create an event loop\n",
    "while True:\n",
    "    event, values = window.read()\n",
    "    # End program if user closes window or\n",
    "    # presses the OK button\n",
    "    if event == \"OK\" or event == sg.WIN_CLOSED:\n",
    "        break\n",
    "\n",
    "window.close()\n"
   ]
  },
  {
   "cell_type": "code",
   "execution_count": 4,
   "id": "north-spirituality",
   "metadata": {},
   "outputs": [
    {
     "name": "stdout",
     "output_type": "stream",
     "text": [
      "Hello Gavas ! Thanks for trying PySimpleGUI\n"
     ]
    }
   ],
   "source": [
    "import PySimpleGUI as sg                        # Part 1 - The import\n",
    "\n",
    "# Define the window's contents\n",
    "layout = [  [sg.Text(\"What's your name?\")],     # Part 2 - The Layout\n",
    "            [sg.Input()],\n",
    "            [sg.Button('Ok')] ]\n",
    "\n",
    "# Create the window\n",
    "window = sg.Window('Window Title', layout)      # Part 3 - Window Defintion\n",
    "\n",
    "# Display and interact with the Window\n",
    "event, values = window.read()                   # Part 4 - Event loop or Window.read call\n",
    "\n",
    "# Do something with the information gathered\n",
    "print('Hello', values[0], \"! Thanks for trying PySimpleGUI\")\n",
    "\n",
    "# Finish up by removing from the screen\n",
    "window.close()      "
   ]
  },
  {
   "cell_type": "code",
   "execution_count": 13,
   "id": "attached-tablet",
   "metadata": {},
   "outputs": [],
   "source": [
    "import PySimpleGUI as sg\n",
    "\n",
    "# Define the window's contents\n",
    "layout = [[sg.Text(\"What's your name?\")],\n",
    "          [sg.Input(key='-INPUT-')],\n",
    "          [sg.Text(size=(40,1), key='-OUTPUT-')],\n",
    "          [sg.Button('Ok'), sg.Button('Quit')]]\n",
    "\n",
    "# Create the window\n",
    "window = sg.Window('Window Title', layout)\n",
    "\n",
    "# Display and interact with the Window using an Event Loop\n",
    "while True:\n",
    "    event, values = window.read()\n",
    "    # See if user wants to quit or window was closed\n",
    "    if event == sg.WINDOW_CLOSED or event == 'Quit':\n",
    "        break\n",
    "    # Output a message to the window\n",
    "    window['-OUTPUT-'].update('Hello ' + values['-INPUT-'] + \"! Thanks for trying PySimpleGUI\")\n",
    "\n",
    "# Finish up by removing from the screen\n",
    "window.close()"
   ]
  },
  {
   "cell_type": "code",
   "execution_count": 6,
   "id": "empty-decision",
   "metadata": {},
   "outputs": [],
   "source": [
    "import PySimpleGUI as sg\n",
    "\n",
    "layout = [[sg.Button(f'{row}, {col}') for col in range(4)] for row in range(4)]\n",
    "\n",
    "event, values = sg.Window('List Comprehensions', layout).read(close=True)\n"
   ]
  },
  {
   "cell_type": "code",
   "execution_count": 12,
   "id": "passive-problem",
   "metadata": {},
   "outputs": [],
   "source": [
    "event, values = sg.Window('Window Title', [[sg.Text(\"What's your name?\")],[sg.Input()],[sg.Button('Ok')]]).read(close=True)\n"
   ]
  },
  {
   "cell_type": "code",
   "execution_count": null,
   "id": "green-receptor",
   "metadata": {},
   "outputs": [],
   "source": [
    " # PySimpleGUI to PySimpleGUIQt, PySimpleGUIWx, PySimpleGUIWeb"
   ]
  },
  {
   "cell_type": "code",
   "execution_count": 11,
   "id": "strategic-terminology",
   "metadata": {},
   "outputs": [
    {
     "data": {
      "text/plain": [
       "'OK'"
      ]
     },
     "execution_count": 11,
     "metadata": {},
     "output_type": "execute_result"
    }
   ],
   "source": [
    "import PySimpleGUI as sg\n",
    "\n",
    "#window = sg.Window('My window', layout, no_titlebar=True, alpha_channel=0.5)\n",
    "filename = sg.popup_get_file('Enter the file you wish to process')\n",
    "sg.popup('You entered', filename)\n"
   ]
  },
  {
   "cell_type": "code",
   "execution_count": null,
   "id": "rocky-segment",
   "metadata": {},
   "outputs": [],
   "source": []
  }
 ],
 "metadata": {
  "kernelspec": {
   "display_name": "Python 3",
   "language": "python",
   "name": "python3"
  },
  "language_info": {
   "codemirror_mode": {
    "name": "ipython",
    "version": 3
   },
   "file_extension": ".py",
   "mimetype": "text/x-python",
   "name": "python",
   "nbconvert_exporter": "python",
   "pygments_lexer": "ipython3",
   "version": "3.9.2"
  }
 },
 "nbformat": 4,
 "nbformat_minor": 5
}
