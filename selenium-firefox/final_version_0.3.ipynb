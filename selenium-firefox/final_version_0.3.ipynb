{
 "cells": [
  {
   "cell_type": "code",
   "execution_count": 2,
   "id": "legendary-token",
   "metadata": {},
   "outputs": [],
   "source": [
    "from selenium import webdriver\n",
    "import pandas as pd\n",
    "import numpy as np\n",
    "from selenium.webdriver.firefox.options import Options\n",
    "import time\n",
    "\n",
    "options = Options()\n",
    "options.headless = True\n"
   ]
  },
  {
   "cell_type": "markdown",
   "id": "declared-multiple",
   "metadata": {},
   "source": [
    "## scrapper "
   ]
  },
  {
   "cell_type": "code",
   "execution_count": 5,
   "id": "beginning-sleeve",
   "metadata": {},
   "outputs": [],
   "source": [
    "da = pd.read_csv('../links.csv')\n",
    "url_list = da['url'].tolist() "
   ]
  },
  {
   "cell_type": "code",
   "execution_count": 41,
   "id": "extended-killer",
   "metadata": {},
   "outputs": [
    {
     "name": "stdout",
     "output_type": "stream",
     "text": [
      "0 1 time taken: 23.777718544006348 seconds ---\n"
     ]
    }
   ],
   "source": [
    "myDict1 = {}\n",
    "start_time = time.time()\n",
    "  \n",
    "for page_num in range(0, 2):\n",
    "    print(page_num,end = \" \")\n",
    "    browser = webdriver.Firefox(options=options, executable_path=\"./drivers/geckodriver\")\n",
    "    browser.get(url_list[page_num])\n",
    "    browser.find_element_by_partial_link_text(\"More Details...\").click()\n",
    "    title = browser.find_element_by_id('bookTitle').text\n",
    "    author = browser.find_element_by_class_name(\"authorName\").text \n",
    "    avg_rating = browser.find_element_by_xpath(\"/html/body/div[2]/div[3]/div[1]/div[2]/div[4]/div[1]/div[2]/div[2]/span[2]\").text\n",
    "    num_rating = browser.find_element_by_xpath(\"/html/body/div[2]/div[3]/div[1]/div[2]/div[4]/div[1]/div[2]/div[2]/a[2]\").text\n",
    "    num_review = browser.find_element_by_xpath(\"/html/body/div[2]/div[3]/div[1]/div[2]/div[4]/div[1]/div[2]/div[2]/a[3]\").text\n",
    "    details = browser.find_element_by_id(\"details\")\n",
    "    temp1 = details.text.split(\"\\n\")\n",
    "    \n",
    "    page = 0\n",
    "    series = 0\n",
    "    \n",
    "    # num rating\n",
    "    try:\n",
    "        num_ratings = num_rating.split()[0]\n",
    "    except:\n",
    "        num_ratings = 0\n",
    "    \n",
    "    # num review\n",
    "    try:\n",
    "        num_reviews = num_review.split()[0]\n",
    "    except:\n",
    "        num_reviews = 0\n",
    "\n",
    "    places = np.nan\n",
    "    awards = np.nan\n",
    "\n",
    "    # total_pages\n",
    "    try:\n",
    "        num_pages = [int(s) for s in temp1[0].split() if s.isdigit()]\n",
    "        num_pages = str(total_pages[0])\n",
    "    except IndexError:\n",
    "        num_pages = np.nan\n",
    "\n",
    "    # year\n",
    "    try:\n",
    "        year = [int(s) for s in temp1[1].split() if s.isdigit()]\n",
    "        original_publish_year = str(year[0]) \n",
    "    except IndexError:\n",
    "        original_publish_year = np.nan\n",
    "\n",
    "    # places\n",
    "    for i in range(len(temp1)):\n",
    "        if(temp1[i]==\"Setting\"):\n",
    "            places = temp1[i+1]\n",
    "        \n",
    "    # series\n",
    "    for i in range(len(temp1)):\n",
    "        if(temp1[i] == \"Series\"):\n",
    "            series = 1\n",
    "\n",
    "    # Awards\n",
    "    for i in range(len(temp1)):\n",
    "        if(temp1[i] == \"Literary Awards\"):\n",
    "            awards = temp1[i+1]\n",
    "    \n",
    "    # genre\n",
    "    genre = browser.find_elements_by_css_selector(\"div.left>a.bookPageGenreLink\")\n",
    "    temp2 = [i.text for i in genre]\n",
    "\n",
    "    try:\n",
    "        genres = temp2[0:3]\n",
    "    except IndexError:\n",
    "        genres = np.nan\n",
    "\n",
    "    myDict1[page_num] = (url_list[page_num],title, author, avg_rating, num_ratings,  num_reviews,  num_pages, original_publish_year, places, series, awards, genres)\n",
    "    browser.close()\n",
    "\n",
    "print(\"time taken: %s seconds ---\" % (time.time() - start_time))\n",
    "df = pd.DataFrame.from_dict(myDict1, orient='index', columns=['url','title', 'author', 'num_reviews', 'num_ratings', 'avg_rating',  'num_pages', 'original_publish_year', 'series', 'genres', 'awards', 'places'])\n",
    "df.to_csv('filename.csv')"
   ]
  },
  {
   "cell_type": "code",
   "execution_count": 42,
   "id": "advisory-military",
   "metadata": {},
   "outputs": [
    {
     "data": {
      "text/html": [
       "<div>\n",
       "<style scoped>\n",
       "    .dataframe tbody tr th:only-of-type {\n",
       "        vertical-align: middle;\n",
       "    }\n",
       "\n",
       "    .dataframe tbody tr th {\n",
       "        vertical-align: top;\n",
       "    }\n",
       "\n",
       "    .dataframe thead th {\n",
       "        text-align: right;\n",
       "    }\n",
       "</style>\n",
       "<table border=\"1\" class=\"dataframe\">\n",
       "  <thead>\n",
       "    <tr style=\"text-align: right;\">\n",
       "      <th></th>\n",
       "      <th>url</th>\n",
       "      <th>title</th>\n",
       "      <th>author</th>\n",
       "      <th>num_reviews</th>\n",
       "      <th>num_ratings</th>\n",
       "      <th>avg_rating</th>\n",
       "      <th>num_pages</th>\n",
       "      <th>original_publish_year</th>\n",
       "      <th>series</th>\n",
       "      <th>genres</th>\n",
       "      <th>awards</th>\n",
       "      <th>places</th>\n",
       "    </tr>\n",
       "  </thead>\n",
       "  <tbody>\n",
       "    <tr>\n",
       "      <th>0</th>\n",
       "      <td>https://www.goodreads.com//book/show/13496.A_G...</td>\n",
       "      <td>A Game of Thrones</td>\n",
       "      <td>George R.R. Martin</td>\n",
       "      <td>4.44</td>\n",
       "      <td>2,084,674</td>\n",
       "      <td>55,510</td>\n",
       "      <td>1</td>\n",
       "      <td>2005</td>\n",
       "      <td>The Lands of Ice and Fire</td>\n",
       "      <td>1</td>\n",
       "      <td>Nebula Award Nominee for Best Novel (1997), Lo...</td>\n",
       "      <td>[Fantasy, Fiction, Fantasy]</td>\n",
       "    </tr>\n",
       "    <tr>\n",
       "      <th>1</th>\n",
       "      <td>https://www.goodreads.com//book/show/30.J_R_R_...</td>\n",
       "      <td>J.R.R. Tolkien 4-Book Boxed Set: The Hobbit an...</td>\n",
       "      <td>J.R.R. Tolkien</td>\n",
       "      <td>4.60</td>\n",
       "      <td>114,607</td>\n",
       "      <td>1,837</td>\n",
       "      <td>1</td>\n",
       "      <td>2012</td>\n",
       "      <td>Middle-earth</td>\n",
       "      <td>1</td>\n",
       "      <td>NaN</td>\n",
       "      <td>[Fantasy, Fiction, Classics]</td>\n",
       "    </tr>\n",
       "  </tbody>\n",
       "</table>\n",
       "</div>"
      ],
      "text/plain": [
       "                                                 url  \\\n",
       "0  https://www.goodreads.com//book/show/13496.A_G...   \n",
       "1  https://www.goodreads.com//book/show/30.J_R_R_...   \n",
       "\n",
       "                                               title              author  \\\n",
       "0                                  A Game of Thrones  George R.R. Martin   \n",
       "1  J.R.R. Tolkien 4-Book Boxed Set: The Hobbit an...      J.R.R. Tolkien   \n",
       "\n",
       "  num_reviews num_ratings avg_rating num_pages original_publish_year  \\\n",
       "0        4.44   2,084,674     55,510         1                  2005   \n",
       "1        4.60     114,607      1,837         1                  2012   \n",
       "\n",
       "                      series  genres  \\\n",
       "0  The Lands of Ice and Fire       1   \n",
       "1               Middle-earth       1   \n",
       "\n",
       "                                              awards  \\\n",
       "0  Nebula Award Nominee for Best Novel (1997), Lo...   \n",
       "1                                                NaN   \n",
       "\n",
       "                         places  \n",
       "0   [Fantasy, Fiction, Fantasy]  \n",
       "1  [Fantasy, Fiction, Classics]  "
      ]
     },
     "execution_count": 42,
     "metadata": {},
     "output_type": "execute_result"
    }
   ],
   "source": [
    "df"
   ]
  },
  {
   "cell_type": "code",
   "execution_count": 3,
   "id": "otherwise-discretion",
   "metadata": {},
   "outputs": [],
   "source": [
    "df = pd.read_csv('final_01.csv')\n"
   ]
  },
  {
   "cell_type": "markdown",
   "id": "pressing-trauma",
   "metadata": {},
   "source": [
    "## checking and correcting according to given constrainst"
   ]
  },
  {
   "cell_type": "code",
   "execution_count": 50,
   "id": "collected-neutral",
   "metadata": {},
   "outputs": [
    {
     "data": {
      "text/plain": [
       "Unnamed: 0                 int64\n",
       "url                       object\n",
       "title                     object\n",
       "author                    object\n",
       "num_reviews                int64\n",
       "num_ratings                int64\n",
       "avg_rating               float64\n",
       "num_pages                float64\n",
       "original_publish_year    float64\n",
       "series                      bool\n",
       "genres                    object\n",
       "awards                    object\n",
       "places                    object\n",
       "dtype: object"
      ]
     },
     "execution_count": 50,
     "metadata": {},
     "output_type": "execute_result"
    }
   ],
   "source": [
    "# remove first because it is  added \n",
    "\n",
    "df.dtypes\n"
   ]
  },
  {
   "cell_type": "code",
   "execution_count": 18,
   "id": "norman-reproduction",
   "metadata": {},
   "outputs": [
    {
     "data": {
      "text/plain": [
       "Unnamed: 0                 Int64\n",
       "url                       string\n",
       "title                     string\n",
       "author                    string\n",
       "num_reviews                Int64\n",
       "num_ratings                Int64\n",
       "avg_rating               Float64\n",
       "num_pages                  Int64\n",
       "original_publish_year      Int64\n",
       "series                   boolean\n",
       "genres                    string\n",
       "awards                    string\n",
       "places                    string\n",
       "dtype: object"
      ]
     },
     "execution_count": 18,
     "metadata": {},
     "output_type": "execute_result"
    }
   ],
   "source": [
    "dfn = df.convert_dtypes()\n",
    "dfn.dtypes"
   ]
  },
  {
   "cell_type": "code",
   "execution_count": 8,
   "id": "military-denver",
   "metadata": {},
   "outputs": [
    {
     "data": {
      "text/plain": [
       "BooleanDtype"
      ]
     },
     "execution_count": 8,
     "metadata": {},
     "output_type": "execute_result"
    }
   ],
   "source": [
    "dfn['series'].dtype"
   ]
  },
  {
   "cell_type": "code",
   "execution_count": 9,
   "id": "committed-attention",
   "metadata": {},
   "outputs": [],
   "source": [
    "dfn['series'] = dfn['series'].astype('bool')"
   ]
  },
  {
   "cell_type": "code",
   "execution_count": 10,
   "id": "photographic-thumb",
   "metadata": {},
   "outputs": [],
   "source": [
    "dfn.to_csv('final_01.csv')"
   ]
  },
  {
   "cell_type": "code",
   "execution_count": 19,
   "id": "opponent-regular",
   "metadata": {},
   "outputs": [
    {
     "data": {
      "text/plain": [
       "Unnamed: 0                 Int64\n",
       "url                       string\n",
       "title                     string\n",
       "author                    string\n",
       "num_reviews                Int64\n",
       "num_ratings                Int64\n",
       "avg_rating               Float64\n",
       "num_pages                  Int64\n",
       "original_publish_year      Int64\n",
       "series                   boolean\n",
       "genres                    string\n",
       "awards                    string\n",
       "places                    string\n",
       "dtype: object"
      ]
     },
     "execution_count": 19,
     "metadata": {},
     "output_type": "execute_result"
    }
   ],
   "source": [
    "dfn.dtypes"
   ]
  },
  {
   "cell_type": "markdown",
   "id": "quarterly-visiting",
   "metadata": {},
   "source": [
    "## infos about data"
   ]
  },
  {
   "cell_type": "code",
   "execution_count": 21,
   "id": "rubber-couple",
   "metadata": {
    "scrolled": true
   },
   "outputs": [
    {
     "data": {
      "text/html": [
       "<div>\n",
       "<style scoped>\n",
       "    .dataframe tbody tr th:only-of-type {\n",
       "        vertical-align: middle;\n",
       "    }\n",
       "\n",
       "    .dataframe tbody tr th {\n",
       "        vertical-align: top;\n",
       "    }\n",
       "\n",
       "    .dataframe thead th {\n",
       "        text-align: right;\n",
       "    }\n",
       "</style>\n",
       "<table border=\"1\" class=\"dataframe\">\n",
       "  <thead>\n",
       "    <tr style=\"text-align: right;\">\n",
       "      <th></th>\n",
       "      <th>Unnamed: 0</th>\n",
       "      <th>url</th>\n",
       "      <th>title</th>\n",
       "      <th>author</th>\n",
       "      <th>num_reviews</th>\n",
       "      <th>num_ratings</th>\n",
       "      <th>avg_rating</th>\n",
       "      <th>num_pages</th>\n",
       "      <th>original_publish_year</th>\n",
       "      <th>series</th>\n",
       "      <th>genres</th>\n",
       "      <th>awards</th>\n",
       "      <th>places</th>\n",
       "    </tr>\n",
       "  </thead>\n",
       "  <tbody>\n",
       "    <tr>\n",
       "      <th>count</th>\n",
       "      <td>1000.000000</td>\n",
       "      <td>1000</td>\n",
       "      <td>1000</td>\n",
       "      <td>1000</td>\n",
       "      <td>1000.0000</td>\n",
       "      <td>1.000000e+03</td>\n",
       "      <td>1000.000000</td>\n",
       "      <td>983.000000</td>\n",
       "      <td>992.000000</td>\n",
       "      <td>1000</td>\n",
       "      <td>1000</td>\n",
       "      <td>395</td>\n",
       "      <td>235</td>\n",
       "    </tr>\n",
       "    <tr>\n",
       "      <th>unique</th>\n",
       "      <td>NaN</td>\n",
       "      <td>1000</td>\n",
       "      <td>998</td>\n",
       "      <td>415</td>\n",
       "      <td>NaN</td>\n",
       "      <td>NaN</td>\n",
       "      <td>NaN</td>\n",
       "      <td>NaN</td>\n",
       "      <td>NaN</td>\n",
       "      <td>2</td>\n",
       "      <td>177</td>\n",
       "      <td>370</td>\n",
       "      <td>152</td>\n",
       "    </tr>\n",
       "    <tr>\n",
       "      <th>top</th>\n",
       "      <td>NaN</td>\n",
       "      <td>https://www.goodreads.com//book/show/12954620-...</td>\n",
       "      <td>The Summoner</td>\n",
       "      <td>David Eddings</td>\n",
       "      <td>NaN</td>\n",
       "      <td>NaN</td>\n",
       "      <td>NaN</td>\n",
       "      <td>NaN</td>\n",
       "      <td>NaN</td>\n",
       "      <td>True</td>\n",
       "      <td>['Fantasy', 'Fiction', 'Fantasy']</td>\n",
       "      <td>Margaret A. Edwards Award (2013)</td>\n",
       "      <td>Tortall</td>\n",
       "    </tr>\n",
       "    <tr>\n",
       "      <th>freq</th>\n",
       "      <td>NaN</td>\n",
       "      <td>1</td>\n",
       "      <td>2</td>\n",
       "      <td>22</td>\n",
       "      <td>NaN</td>\n",
       "      <td>NaN</td>\n",
       "      <td>NaN</td>\n",
       "      <td>NaN</td>\n",
       "      <td>NaN</td>\n",
       "      <td>888</td>\n",
       "      <td>244</td>\n",
       "      <td>5</td>\n",
       "      <td>8</td>\n",
       "    </tr>\n",
       "    <tr>\n",
       "      <th>mean</th>\n",
       "      <td>499.500000</td>\n",
       "      <td>NaN</td>\n",
       "      <td>NaN</td>\n",
       "      <td>NaN</td>\n",
       "      <td>4538.7870</td>\n",
       "      <td>1.200786e+05</td>\n",
       "      <td>4.108150</td>\n",
       "      <td>494.814852</td>\n",
       "      <td>2003.118952</td>\n",
       "      <td>NaN</td>\n",
       "      <td>NaN</td>\n",
       "      <td>NaN</td>\n",
       "      <td>NaN</td>\n",
       "    </tr>\n",
       "    <tr>\n",
       "      <th>std</th>\n",
       "      <td>288.819436</td>\n",
       "      <td>NaN</td>\n",
       "      <td>NaN</td>\n",
       "      <td>NaN</td>\n",
       "      <td>12569.5652</td>\n",
       "      <td>4.697256e+05</td>\n",
       "      <td>0.264131</td>\n",
       "      <td>298.507595</td>\n",
       "      <td>64.290790</td>\n",
       "      <td>NaN</td>\n",
       "      <td>NaN</td>\n",
       "      <td>NaN</td>\n",
       "      <td>NaN</td>\n",
       "    </tr>\n",
       "    <tr>\n",
       "      <th>min</th>\n",
       "      <td>0.000000</td>\n",
       "      <td>NaN</td>\n",
       "      <td>NaN</td>\n",
       "      <td>NaN</td>\n",
       "      <td>0.0000</td>\n",
       "      <td>4.000000e+00</td>\n",
       "      <td>3.180000</td>\n",
       "      <td>0.000000</td>\n",
       "      <td>1.000000</td>\n",
       "      <td>NaN</td>\n",
       "      <td>NaN</td>\n",
       "      <td>NaN</td>\n",
       "      <td>NaN</td>\n",
       "    </tr>\n",
       "    <tr>\n",
       "      <th>25%</th>\n",
       "      <td>249.750000</td>\n",
       "      <td>NaN</td>\n",
       "      <td>NaN</td>\n",
       "      <td>NaN</td>\n",
       "      <td>112.5000</td>\n",
       "      <td>2.883250e+03</td>\n",
       "      <td>3.947500</td>\n",
       "      <td>337.000000</td>\n",
       "      <td>2001.000000</td>\n",
       "      <td>NaN</td>\n",
       "      <td>NaN</td>\n",
       "      <td>NaN</td>\n",
       "      <td>NaN</td>\n",
       "    </tr>\n",
       "    <tr>\n",
       "      <th>50%</th>\n",
       "      <td>499.500000</td>\n",
       "      <td>NaN</td>\n",
       "      <td>NaN</td>\n",
       "      <td>NaN</td>\n",
       "      <td>570.0000</td>\n",
       "      <td>1.552400e+04</td>\n",
       "      <td>4.100000</td>\n",
       "      <td>441.000000</td>\n",
       "      <td>2006.000000</td>\n",
       "      <td>NaN</td>\n",
       "      <td>NaN</td>\n",
       "      <td>NaN</td>\n",
       "      <td>NaN</td>\n",
       "    </tr>\n",
       "    <tr>\n",
       "      <th>75%</th>\n",
       "      <td>749.250000</td>\n",
       "      <td>NaN</td>\n",
       "      <td>NaN</td>\n",
       "      <td>NaN</td>\n",
       "      <td>2847.7500</td>\n",
       "      <td>7.002600e+04</td>\n",
       "      <td>4.260000</td>\n",
       "      <td>592.000000</td>\n",
       "      <td>2012.000000</td>\n",
       "      <td>NaN</td>\n",
       "      <td>NaN</td>\n",
       "      <td>NaN</td>\n",
       "      <td>NaN</td>\n",
       "    </tr>\n",
       "    <tr>\n",
       "      <th>max</th>\n",
       "      <td>999.000000</td>\n",
       "      <td>NaN</td>\n",
       "      <td>NaN</td>\n",
       "      <td>NaN</td>\n",
       "      <td>175490.0000</td>\n",
       "      <td>7.504311e+06</td>\n",
       "      <td>5.000000</td>\n",
       "      <td>5216.000000</td>\n",
       "      <td>2021.000000</td>\n",
       "      <td>NaN</td>\n",
       "      <td>NaN</td>\n",
       "      <td>NaN</td>\n",
       "      <td>NaN</td>\n",
       "    </tr>\n",
       "  </tbody>\n",
       "</table>\n",
       "</div>"
      ],
      "text/plain": [
       "         Unnamed: 0                                                url  \\\n",
       "count   1000.000000                                               1000   \n",
       "unique          NaN                                               1000   \n",
       "top             NaN  https://www.goodreads.com//book/show/12954620-...   \n",
       "freq            NaN                                                  1   \n",
       "mean     499.500000                                                NaN   \n",
       "std      288.819436                                                NaN   \n",
       "min        0.000000                                                NaN   \n",
       "25%      249.750000                                                NaN   \n",
       "50%      499.500000                                                NaN   \n",
       "75%      749.250000                                                NaN   \n",
       "max      999.000000                                                NaN   \n",
       "\n",
       "               title         author  num_reviews   num_ratings   avg_rating  \\\n",
       "count           1000           1000    1000.0000  1.000000e+03  1000.000000   \n",
       "unique           998            415          NaN           NaN          NaN   \n",
       "top     The Summoner  David Eddings          NaN           NaN          NaN   \n",
       "freq               2             22          NaN           NaN          NaN   \n",
       "mean             NaN            NaN    4538.7870  1.200786e+05     4.108150   \n",
       "std              NaN            NaN   12569.5652  4.697256e+05     0.264131   \n",
       "min              NaN            NaN       0.0000  4.000000e+00     3.180000   \n",
       "25%              NaN            NaN     112.5000  2.883250e+03     3.947500   \n",
       "50%              NaN            NaN     570.0000  1.552400e+04     4.100000   \n",
       "75%              NaN            NaN    2847.7500  7.002600e+04     4.260000   \n",
       "max              NaN            NaN  175490.0000  7.504311e+06     5.000000   \n",
       "\n",
       "          num_pages  original_publish_year series  \\\n",
       "count    983.000000             992.000000   1000   \n",
       "unique          NaN                    NaN      2   \n",
       "top             NaN                    NaN   True   \n",
       "freq            NaN                    NaN    888   \n",
       "mean     494.814852            2003.118952    NaN   \n",
       "std      298.507595              64.290790    NaN   \n",
       "min        0.000000               1.000000    NaN   \n",
       "25%      337.000000            2001.000000    NaN   \n",
       "50%      441.000000            2006.000000    NaN   \n",
       "75%      592.000000            2012.000000    NaN   \n",
       "max     5216.000000            2021.000000    NaN   \n",
       "\n",
       "                                   genres                            awards  \\\n",
       "count                                1000                               395   \n",
       "unique                                177                               370   \n",
       "top     ['Fantasy', 'Fiction', 'Fantasy']  Margaret A. Edwards Award (2013)   \n",
       "freq                                  244                                 5   \n",
       "mean                                  NaN                               NaN   \n",
       "std                                   NaN                               NaN   \n",
       "min                                   NaN                               NaN   \n",
       "25%                                   NaN                               NaN   \n",
       "50%                                   NaN                               NaN   \n",
       "75%                                   NaN                               NaN   \n",
       "max                                   NaN                               NaN   \n",
       "\n",
       "         places  \n",
       "count       235  \n",
       "unique      152  \n",
       "top     Tortall  \n",
       "freq          8  \n",
       "mean        NaN  \n",
       "std         NaN  \n",
       "min         NaN  \n",
       "25%         NaN  \n",
       "50%         NaN  \n",
       "75%         NaN  \n",
       "max         NaN  "
      ]
     },
     "execution_count": 21,
     "metadata": {},
     "output_type": "execute_result"
    }
   ],
   "source": [
    "df2 = dfn\n",
    "df2.describe(include='all')"
   ]
  },
  {
   "cell_type": "code",
   "execution_count": 44,
   "id": "intended-runner",
   "metadata": {},
   "outputs": [],
   "source": [
    "df3 = df2.describe(include='all')\n",
    "df4 = df2.isna().any()\n",
    "#df4\n",
    "#df3.to_csv('info_about_original_data.csv')\n"
   ]
  },
  {
   "cell_type": "markdown",
   "id": "sharp-sixth",
   "metadata": {},
   "source": [
    "## preprocessing"
   ]
  },
  {
   "cell_type": "code",
   "execution_count": 56,
   "id": "current-advertiser",
   "metadata": {},
   "outputs": [],
   "source": [
    "df2['awards'].isna().any()\n",
    "df5 = df2 \n",
    "df5['Awards_count'] = df5.awards.str.count(',')+1\n"
   ]
  },
  {
   "cell_type": "code",
   "execution_count": 59,
   "id": "negative-catholic",
   "metadata": {},
   "outputs": [
    {
     "data": {
      "text/plain": [
       "0      4\n",
       "1      0\n",
       "2      5\n",
       "3      4\n",
       "4      0\n",
       "      ..\n",
       "995    0\n",
       "996    0\n",
       "997    0\n",
       "998    0\n",
       "999    5\n",
       "Name: Awards_count, Length: 1000, dtype: Int64"
      ]
     },
     "execution_count": 59,
     "metadata": {},
     "output_type": "execute_result"
    }
   ],
   "source": [
    "df5['Awards_count'] =df5['Awards_count'].fillna(value=0) \n",
    "df5['Awards_count']"
   ]
  },
  {
   "cell_type": "markdown",
   "id": "executed-jason",
   "metadata": {},
   "source": [
    "You know that a lot of reviews have a value between 4 and 5, and it is very hard to spot a difference between the different ratings. For this reason, you have to transform the avg_ratings column using the following criteria:"
   ]
  },
  {
   "cell_type": "code",
   "execution_count": 63,
   "id": "arabic-emission",
   "metadata": {},
   "outputs": [
    {
     "data": {
      "text/plain": [
       "False"
      ]
     },
     "execution_count": 63,
     "metadata": {},
     "output_type": "execute_result"
    }
   ],
   "source": [
    "df5['avg_rating'].isna().any()"
   ]
  },
  {
   "cell_type": "markdown",
   "id": "unique-genre",
   "metadata": {},
   "source": [
    "## Min -Max normalisation\n",
    "x' =\\frac{ x - \\min(x)}{\\max(x) - \\min(x)}"
   ]
  },
  {
   "cell_type": "code",
   "execution_count": 13,
   "id": "verbal-heating",
   "metadata": {},
   "outputs": [],
   "source": [
    "df = pd.read_csv('final_01.csv')\n",
    "df1 = df\n",
    "#df1.head()"
   ]
  },
  {
   "cell_type": "code",
   "execution_count": 14,
   "id": "framed-silence",
   "metadata": {},
   "outputs": [
    {
     "data": {
      "text/plain": [
       "0      7.230769\n",
       "1      8.021978\n",
       "2      7.626374\n",
       "3      8.071429\n",
       "4      6.340659\n",
       "         ...   \n",
       "995    5.153846\n",
       "996    2.780220\n",
       "997    3.571429\n",
       "998    4.560440\n",
       "999    7.181319\n",
       "Name: minmax_norm_ratings, Length: 1000, dtype: float64"
      ]
     },
     "execution_count": 14,
     "metadata": {},
     "output_type": "execute_result"
    }
   ],
   "source": [
    "max_min_value = df['avg_rating'].max() - df['avg_rating'].min()\n",
    "min_value = df['avg_rating'].min()\n",
    "df1['minmax_norm_ratings'] = 1 + (df1['avg_rating'] - min_value) / (max_min_value) * 9\n",
    "df1['minmax_norm_ratings']"
   ]
  },
  {
   "cell_type": "markdown",
   "id": "scenic-referral",
   "metadata": {},
   "source": [
    "## mean normalization:\n",
    "\n",
    "x' = \\frac{x - \\mathrm{average}(x)}{\\max(x)-\\min(x)}"
   ]
  },
  {
   "cell_type": "code",
   "execution_count": 15,
   "id": "caroline-costa",
   "metadata": {},
   "outputs": [
    {
     "data": {
      "text/plain": [
       "0      2.641016\n",
       "1      3.432225\n",
       "2      3.036621\n",
       "3      3.481676\n",
       "4      1.750907\n",
       "         ...   \n",
       "995    0.564093\n",
       "996   -1.809533\n",
       "997   -1.018324\n",
       "998   -0.029313\n",
       "999    2.591566\n",
       "Name: mean_norm_ratings, Length: 1000, dtype: float64"
      ]
     },
     "execution_count": 15,
     "metadata": {},
     "output_type": "execute_result"
    }
   ],
   "source": [
    "max_min_value = df1['avg_rating'].max() - df1['avg_rating'].min()\n",
    "mean_value = df1['avg_rating'].mean()\n",
    "\n",
    "\n",
    "df1['mean_norm_ratings'] = 1 + (df1['avg_rating'] - mean_value) / (max_min_value) * 9\n",
    "df1['mean_norm_ratings'] "
   ]
  },
  {
   "cell_type": "markdown",
   "id": "optical-corrections",
   "metadata": {},
   "source": [
    "## Analyse\n",
    "\n",
    "Once you have preprocessed your dataframe, you can play with it! \n",
    "\n",
    "1. Group the books by `original_publish_year` and get the mean of the `minmax_norm_ratings` of the groups.\n",
    "2. Create a function that given an author as input it returns her/his book with the highest `minmax_norm_ratings`."
   ]
  },
  {
   "cell_type": "code",
   "execution_count": 29,
   "id": "precious-router",
   "metadata": {},
   "outputs": [
    {
     "data": {
      "text/plain": [
       "50"
      ]
     },
     "execution_count": 29,
     "metadata": {},
     "output_type": "execute_result"
    }
   ],
   "source": [
    "df2 = df1\n",
    "df2['original_publish_year'].nunique()\n"
   ]
  },
  {
   "cell_type": "code",
   "execution_count": 35,
   "id": "straight-right",
   "metadata": {},
   "outputs": [
    {
     "ename": "AttributeError",
     "evalue": "'dict_keys' object has no attribute 'groupby'",
     "output_type": "error",
     "traceback": [
      "\u001b[0;31m---------------------------------------------------------------------------\u001b[0m",
      "\u001b[0;31mAttributeError\u001b[0m                            Traceback (most recent call last)",
      "\u001b[0;32m<ipython-input-35-96c22d67e2a8>\u001b[0m in \u001b[0;36m<module>\u001b[0;34m\u001b[0m\n\u001b[1;32m      1\u001b[0m \u001b[0mdf3\u001b[0m\u001b[0;34m=\u001b[0m\u001b[0mdf2\u001b[0m\u001b[0;34m.\u001b[0m\u001b[0mgroupby\u001b[0m\u001b[0;34m(\u001b[0m\u001b[0;34m[\u001b[0m\u001b[0;34m'original_publish_year'\u001b[0m\u001b[0;34m]\u001b[0m\u001b[0;34m)\u001b[0m\u001b[0;34m.\u001b[0m\u001b[0mgroups\u001b[0m\u001b[0;34m.\u001b[0m\u001b[0mkeys\u001b[0m\u001b[0;34m(\u001b[0m\u001b[0;34m)\u001b[0m\u001b[0;34m\u001b[0m\u001b[0;34m\u001b[0m\u001b[0m\n\u001b[0;32m----> 2\u001b[0;31m \u001b[0mprint\u001b[0m\u001b[0;34m(\u001b[0m\u001b[0mdf3\u001b[0m\u001b[0;34m.\u001b[0m\u001b[0mgroupby\u001b[0m\u001b[0;34m(\u001b[0m\u001b[0;34m'original_publish_year'\u001b[0m\u001b[0;34m)\u001b[0m\u001b[0;34m.\u001b[0m\u001b[0mfirst\u001b[0m\u001b[0;34m(\u001b[0m\u001b[0;34m)\u001b[0m\u001b[0;34m)\u001b[0m\u001b[0;34m\u001b[0m\u001b[0;34m\u001b[0m\u001b[0m\n\u001b[0m",
      "\u001b[0;31mAttributeError\u001b[0m: 'dict_keys' object has no attribute 'groupby'"
     ]
    }
   ],
   "source": [
    "df3=df2.groupby(['original_publish_year']).groups.keys()\n"
   ]
  },
  {
   "cell_type": "code",
   "execution_count": 59,
   "id": "related-headset",
   "metadata": {},
   "outputs": [],
   "source": [
    "df2.groupby(['original_publish_year'])['minmax_norm_ratings'].mean() #mean()\n",
    "#df2.groupby('original_publish_year', as_index=False).agg({\"mean_minmax_norm_ratings\": \"minmax_norm_ratings\"})\n"
   ]
  },
  {
   "cell_type": "code",
   "execution_count": 71,
   "id": "received-sugar",
   "metadata": {},
   "outputs": [],
   "source": [
    "#ab = df2.loc[df2['original_publish_year'] == 1.0]\n",
    "#print(ab[:2]) #387th\n",
    "\n",
    "#df2 = df2.drop(['387'])\n",
    "#df2[386:388]"
   ]
  },
  {
   "cell_type": "code",
   "execution_count": null,
   "id": "technical-optimization",
   "metadata": {},
   "outputs": [],
   "source": []
  },
  {
   "cell_type": "code",
   "execution_count": 53,
   "id": "varying-chancellor",
   "metadata": {},
   "outputs": [],
   "source": [
    "#temp = pd.read_csv('info_about_original_data.csv')\n",
    "#temp"
   ]
  }
 ],
 "metadata": {
  "kernelspec": {
   "display_name": "Python 3",
   "language": "python",
   "name": "python3"
  },
  "language_info": {
   "codemirror_mode": {
    "name": "ipython",
    "version": 3
   },
   "file_extension": ".py",
   "mimetype": "text/x-python",
   "name": "python",
   "nbconvert_exporter": "python",
   "pygments_lexer": "ipython3",
   "version": "3.9.2"
  }
 },
 "nbformat": 4,
 "nbformat_minor": 5
}
