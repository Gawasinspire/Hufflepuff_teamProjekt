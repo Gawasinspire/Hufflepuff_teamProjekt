{
 "metadata": {
  "language_info": {
   "codemirror_mode": {
    "name": "ipython",
    "version": 3
   },
   "file_extension": ".py",
   "mimetype": "text/x-python",
   "name": "python",
   "nbconvert_exporter": "python",
   "pygments_lexer": "ipython3",
   "version": "3.8.8-final"
  },
  "orig_nbformat": 2,
  "kernelspec": {
   "name": "python388jvsc74a57bd036d735e4d74651b5843b8bf8671694cee2df4263d27e1ed8e6896ce3326ae1ff",
   "display_name": "Python 3.8.8 64-bit ('Strive': conda)"
  },
  "metadata": {
   "interpreter": {
    "hash": "36d735e4d74651b5843b8bf8671694cee2df4263d27e1ed8e6896ce3326ae1ff"
   }
  }
 },
 "nbformat": 4,
 "nbformat_minor": 2,
 "cells": [
  {
   "cell_type": "code",
   "execution_count": 57,
   "metadata": {},
   "outputs": [],
   "source": [
    "%matplotlib inline\n",
    "\n",
    "import warnings\n",
    "import numpy as np\n",
    "import pandas as pd\n",
    "import scipy.stats as st\n",
    "import statsmodels as sm\n",
    "import matplotlib\n",
    "import matplotlib.pyplot as plt"
   ]
  },
  {
   "cell_type": "code",
   "execution_count": 62,
   "metadata": {},
   "outputs": [
    {
     "output_type": "display_data",
     "data": {
      "text/plain": "                                                 url  \\\n0  https://www.goodreads.com//book/show/13496.A_G...   \n1  https://www.goodreads.com//book/show/30.J_R_R_...   \n2  https://www.goodreads.com//book/show/186074.Th...   \n3  https://www.goodreads.com//book/show/7235533-t...   \n4  https://www.goodreads.com//book/show/11127.The...   \n\n                                               title          authorname  \\\n0                                  A Game of Thrones  George R.R. Martin   \n1  J.R.R. Tolkien 4-Book Boxed Set: The Hobbit an...      J.R.R. Tolkien   \n2                               The Name of the Wind    Patrick Rothfuss   \n3                                   The Way of Kings   Brandon Sanderson   \n4                           The Chronicles of Narnia          C.S. Lewis   \n\n   avg_rating    num_rat num_rev  total_pages  ori_year  \\\n0        4.44  2,084,416  55,502        835.0    2005.0   \n1        4.60    114,607   1,837       1728.0    2012.0   \n2        4.52    759,974  43,986        662.0    2007.0   \n3        4.61    334,282  22,153       1007.0    2010.0   \n4        4.26    545,434  10,668        767.0    2002.0   \n\n                             places  series  \\\n0         The Lands of Ice and Fire       1   \n1                      Middle-earth       1   \n2                               NaN       1   \n3                            Roshar       1   \n4  London, England (United Kingdom)       1   \n\n                                              awards  \\\n0  Nebula Award Nominee for Best Novel (1997), Lo...   \n1                                                NaN   \n2  Locus Award Nominee for Best First Novel and B...   \n3  Locus Award Nominee for Best Fantasy Novel (20...   \n4                                                NaN   \n\n                               genre3  minmax_norm_ratings  mean_norm_ratings  \n0   ['Fantasy', 'Fiction', 'Fantasy']             7.230769           2.641016  \n1  ['Fantasy', 'Fiction', 'Classics']             8.021978           3.432225  \n2   ['Fantasy', 'Fiction', 'Fantasy']             7.626374           3.036621  \n3   ['Fantasy', 'Fiction', 'Fantasy']             8.071429           3.481676  \n4  ['Fantasy', 'Classics', 'Fiction']             6.340659           1.750907  ",
      "text/html": "<div>\n<style scoped>\n    .dataframe tbody tr th:only-of-type {\n        vertical-align: middle;\n    }\n\n    .dataframe tbody tr th {\n        vertical-align: top;\n    }\n\n    .dataframe thead th {\n        text-align: right;\n    }\n</style>\n<table border=\"1\" class=\"dataframe\">\n  <thead>\n    <tr style=\"text-align: right;\">\n      <th></th>\n      <th>url</th>\n      <th>title</th>\n      <th>authorname</th>\n      <th>avg_rating</th>\n      <th>num_rat</th>\n      <th>num_rev</th>\n      <th>total_pages</th>\n      <th>ori_year</th>\n      <th>places</th>\n      <th>series</th>\n      <th>awards</th>\n      <th>genre3</th>\n      <th>minmax_norm_ratings</th>\n      <th>mean_norm_ratings</th>\n    </tr>\n  </thead>\n  <tbody>\n    <tr>\n      <th>0</th>\n      <td>https://www.goodreads.com//book/show/13496.A_G...</td>\n      <td>A Game of Thrones</td>\n      <td>George R.R. Martin</td>\n      <td>4.44</td>\n      <td>2,084,416</td>\n      <td>55,502</td>\n      <td>835.0</td>\n      <td>2005.0</td>\n      <td>The Lands of Ice and Fire</td>\n      <td>1</td>\n      <td>Nebula Award Nominee for Best Novel (1997), Lo...</td>\n      <td>['Fantasy', 'Fiction', 'Fantasy']</td>\n      <td>7.230769</td>\n      <td>2.641016</td>\n    </tr>\n    <tr>\n      <th>1</th>\n      <td>https://www.goodreads.com//book/show/30.J_R_R_...</td>\n      <td>J.R.R. Tolkien 4-Book Boxed Set: The Hobbit an...</td>\n      <td>J.R.R. Tolkien</td>\n      <td>4.60</td>\n      <td>114,607</td>\n      <td>1,837</td>\n      <td>1728.0</td>\n      <td>2012.0</td>\n      <td>Middle-earth</td>\n      <td>1</td>\n      <td>NaN</td>\n      <td>['Fantasy', 'Fiction', 'Classics']</td>\n      <td>8.021978</td>\n      <td>3.432225</td>\n    </tr>\n    <tr>\n      <th>2</th>\n      <td>https://www.goodreads.com//book/show/186074.Th...</td>\n      <td>The Name of the Wind</td>\n      <td>Patrick Rothfuss</td>\n      <td>4.52</td>\n      <td>759,974</td>\n      <td>43,986</td>\n      <td>662.0</td>\n      <td>2007.0</td>\n      <td>NaN</td>\n      <td>1</td>\n      <td>Locus Award Nominee for Best First Novel and B...</td>\n      <td>['Fantasy', 'Fiction', 'Fantasy']</td>\n      <td>7.626374</td>\n      <td>3.036621</td>\n    </tr>\n    <tr>\n      <th>3</th>\n      <td>https://www.goodreads.com//book/show/7235533-t...</td>\n      <td>The Way of Kings</td>\n      <td>Brandon Sanderson</td>\n      <td>4.61</td>\n      <td>334,282</td>\n      <td>22,153</td>\n      <td>1007.0</td>\n      <td>2010.0</td>\n      <td>Roshar</td>\n      <td>1</td>\n      <td>Locus Award Nominee for Best Fantasy Novel (20...</td>\n      <td>['Fantasy', 'Fiction', 'Fantasy']</td>\n      <td>8.071429</td>\n      <td>3.481676</td>\n    </tr>\n    <tr>\n      <th>4</th>\n      <td>https://www.goodreads.com//book/show/11127.The...</td>\n      <td>The Chronicles of Narnia</td>\n      <td>C.S. Lewis</td>\n      <td>4.26</td>\n      <td>545,434</td>\n      <td>10,668</td>\n      <td>767.0</td>\n      <td>2002.0</td>\n      <td>London, England (United Kingdom)</td>\n      <td>1</td>\n      <td>NaN</td>\n      <td>['Fantasy', 'Classics', 'Fiction']</td>\n      <td>6.340659</td>\n      <td>1.750907</td>\n    </tr>\n  </tbody>\n</table>\n</div>"
     },
     "metadata": {}
    }
   ],
   "source": [
    "# Load first 500 rows from csv\n",
    "df1 = pd.read_csv('../TH_Data/500_rows.csv', index_col=0)\n",
    "\n",
    "# Load second 500 rows from csv\n",
    "df2 = pd.read_csv('../TH_Data/500_2_rows.csv', index_col=0)\n",
    "\n",
    "# Concatenate dfs\n",
    "frames = [df1, df2]\n",
    "df = pd.concat(frames, ignore_index=True)\n",
    "\n",
    "# normalizing avg_ratings with MinMax and Mean\n",
    "df['minmax_norm_ratings'] = 1 + (df['avg_rating'] - df['avg_rating'].min()) / (df['avg_rating'].max() - df['avg_rating'].min()) * 9\n",
    "df['mean_norm_ratings'] = 1 + (df['avg_rating'] - df['avg_rating'].mean()) / (df['avg_rating'].max() - df['avg_rating'].min()) * 9\n",
    "# df['minmax_norm'] = 1 + (df['avg_rating'] - df['avg_rating'].min()) / (df['avg_rating'].max() - df['avg_rating'].min()) * 9\n",
    "# df['mean_norm'] = 1 + (df['avg_rating'] - df['avg_rating'].mean()) / (df['avg_rating'].max() - df['avg_rating'].min()) * 9\n",
    "\n",
    "display(df.head())"
   ]
  },
  {
   "cell_type": "code",
   "execution_count": 64,
   "metadata": {},
   "outputs": [
    {
     "output_type": "stream",
     "name": "stderr",
     "text": [
      "<ipython-input-64-4744d18aa437>:32: UserWarning: Matplotlib is currently using module://ipykernel.pylab.backend_inline, which is a non-GUI backend, so cannot show the figure.\n  fig.show()\n"
     ]
    },
    {
     "output_type": "error",
     "ename": "AttributeError",
     "evalue": "'DataFrame' object has no attribute 'mean_norm'",
     "traceback": [
      "\u001b[0;31m---------------------------------------------------------------------------\u001b[0m",
      "\u001b[0;31mAttributeError\u001b[0m                            Traceback (most recent call last)",
      "\u001b[0;32m<ipython-input-64-4744d18aa437>\u001b[0m in \u001b[0;36m<module>\u001b[0;34m\u001b[0m\n\u001b[1;32m     51\u001b[0m \u001b[0mplot_norm\u001b[0m\u001b[0;34m(\u001b[0m\u001b[0mdf\u001b[0m\u001b[0;34m.\u001b[0m\u001b[0mavg_rating\u001b[0m\u001b[0;34m,\u001b[0m \u001b[0mdf\u001b[0m\u001b[0;34m.\u001b[0m\u001b[0mminmax_norm_ratings\u001b[0m\u001b[0;34m,\u001b[0m \u001b[0mnorm_type\u001b[0m\u001b[0;34m=\u001b[0m\u001b[0;34m'Min-Max normalization'\u001b[0m\u001b[0;34m)\u001b[0m\u001b[0;34m\u001b[0m\u001b[0;34m\u001b[0m\u001b[0m\n\u001b[1;32m     52\u001b[0m \u001b[0mplot_norm\u001b[0m\u001b[0;34m(\u001b[0m\u001b[0mdf\u001b[0m\u001b[0;34m.\u001b[0m\u001b[0mavg_rating\u001b[0m\u001b[0;34m,\u001b[0m \u001b[0mdf\u001b[0m\u001b[0;34m.\u001b[0m\u001b[0mmean_norm_ratings\u001b[0m\u001b[0;34m,\u001b[0m \u001b[0mnorm_type\u001b[0m\u001b[0;34m=\u001b[0m\u001b[0;34m'Mean normalization'\u001b[0m\u001b[0;34m)\u001b[0m\u001b[0;34m\u001b[0m\u001b[0;34m\u001b[0m\u001b[0m\n\u001b[0;32m---> 53\u001b[0;31m \u001b[0mplot_compared_norms\u001b[0m\u001b[0;34m(\u001b[0m\u001b[0mdf\u001b[0m\u001b[0;34m.\u001b[0m\u001b[0mminmax_norm_ratings\u001b[0m\u001b[0;34m,\u001b[0m \u001b[0mdf\u001b[0m\u001b[0;34m.\u001b[0m\u001b[0mmean_norm_ratings\u001b[0m\u001b[0;34m,\u001b[0m \u001b[0mfirst_norm_type\u001b[0m \u001b[0;34m=\u001b[0m \u001b[0;34m'Min-Max normalization'\u001b[0m\u001b[0;34m,\u001b[0m \u001b[0msecond_norm_type\u001b[0m\u001b[0;34m=\u001b[0m\u001b[0;34m'Mean normalization'\u001b[0m\u001b[0;34m)\u001b[0m\u001b[0;34m\u001b[0m\u001b[0;34m\u001b[0m\u001b[0m\n\u001b[0m\u001b[1;32m     54\u001b[0m \u001b[0;34m\u001b[0m\u001b[0m\n",
      "\u001b[0;32m<ipython-input-64-4744d18aa437>\u001b[0m in \u001b[0;36mplot_compared_norms\u001b[0;34m(first_norm, second_norm, first_norm_type, second_norm_type, bins_, first_norm_color, second_norm_color, edgecolor_)\u001b[0m\n\u001b[1;32m     42\u001b[0m \u001b[0;34m\u001b[0m\u001b[0m\n\u001b[1;32m     43\u001b[0m     \u001b[0mgraph\u001b[0m\u001b[0;34m.\u001b[0m\u001b[0mhist\u001b[0m\u001b[0;34m(\u001b[0m\u001b[0mfirst_norm\u001b[0m\u001b[0;34m,\u001b[0m \u001b[0mbins\u001b[0m \u001b[0;34m=\u001b[0m \u001b[0mbins_\u001b[0m\u001b[0;34m,\u001b[0m \u001b[0malpha\u001b[0m \u001b[0;34m=\u001b[0m \u001b[0;36m0.7\u001b[0m\u001b[0;34m,\u001b[0m \u001b[0mcolor\u001b[0m\u001b[0;34m=\u001b[0m\u001b[0mfirst_norm_color\u001b[0m\u001b[0;34m,\u001b[0m \u001b[0medgecolor\u001b[0m \u001b[0;34m=\u001b[0m \u001b[0medgecolor_\u001b[0m\u001b[0;34m,\u001b[0m \u001b[0mlabel\u001b[0m \u001b[0;34m=\u001b[0m \u001b[0mfirst_norm_type\u001b[0m\u001b[0;34m)\u001b[0m\u001b[0;34m\u001b[0m\u001b[0;34m\u001b[0m\u001b[0m\n\u001b[0;32m---> 44\u001b[0;31m     \u001b[0mgraph\u001b[0m\u001b[0;34m.\u001b[0m\u001b[0mhist\u001b[0m\u001b[0;34m(\u001b[0m\u001b[0mdf\u001b[0m\u001b[0;34m.\u001b[0m\u001b[0mmean_norm\u001b[0m\u001b[0;34m,\u001b[0m \u001b[0mbins\u001b[0m \u001b[0;34m=\u001b[0m \u001b[0mbins_\u001b[0m\u001b[0;34m,\u001b[0m \u001b[0malpha\u001b[0m \u001b[0;34m=\u001b[0m \u001b[0;36m0.7\u001b[0m\u001b[0;34m,\u001b[0m \u001b[0mcolor\u001b[0m\u001b[0;34m=\u001b[0m\u001b[0msecond_norm_color\u001b[0m\u001b[0;34m,\u001b[0m \u001b[0medgecolor\u001b[0m \u001b[0;34m=\u001b[0m \u001b[0medgecolor_\u001b[0m\u001b[0;34m,\u001b[0m \u001b[0mlabel\u001b[0m \u001b[0;34m=\u001b[0m \u001b[0msecond_norm_type\u001b[0m\u001b[0;34m)\u001b[0m\u001b[0;34m\u001b[0m\u001b[0;34m\u001b[0m\u001b[0m\n\u001b[0m\u001b[1;32m     45\u001b[0m     \u001b[0mgraph\u001b[0m\u001b[0;34m.\u001b[0m\u001b[0mset_title\u001b[0m\u001b[0;34m(\u001b[0m\u001b[0;34mf'Comparison between {first_norm_type} and {second_norm_type}'\u001b[0m\u001b[0;34m)\u001b[0m\u001b[0;34m\u001b[0m\u001b[0;34m\u001b[0m\u001b[0m\n\u001b[1;32m     46\u001b[0m     \u001b[0mgraph\u001b[0m\u001b[0;34m.\u001b[0m\u001b[0mlegend\u001b[0m\u001b[0;34m(\u001b[0m\u001b[0;34m)\u001b[0m\u001b[0;34m\u001b[0m\u001b[0;34m\u001b[0m\u001b[0m\n",
      "\u001b[0;32m~/anaconda3/envs/Strive/lib/python3.8/site-packages/pandas/core/generic.py\u001b[0m in \u001b[0;36m__getattr__\u001b[0;34m(self, name)\u001b[0m\n\u001b[1;32m   5463\u001b[0m             \u001b[0;32mif\u001b[0m \u001b[0mself\u001b[0m\u001b[0;34m.\u001b[0m\u001b[0m_info_axis\u001b[0m\u001b[0;34m.\u001b[0m\u001b[0m_can_hold_identifiers_and_holds_name\u001b[0m\u001b[0;34m(\u001b[0m\u001b[0mname\u001b[0m\u001b[0;34m)\u001b[0m\u001b[0;34m:\u001b[0m\u001b[0;34m\u001b[0m\u001b[0;34m\u001b[0m\u001b[0m\n\u001b[1;32m   5464\u001b[0m                 \u001b[0;32mreturn\u001b[0m \u001b[0mself\u001b[0m\u001b[0;34m[\u001b[0m\u001b[0mname\u001b[0m\u001b[0;34m]\u001b[0m\u001b[0;34m\u001b[0m\u001b[0;34m\u001b[0m\u001b[0m\n\u001b[0;32m-> 5465\u001b[0;31m             \u001b[0;32mreturn\u001b[0m \u001b[0mobject\u001b[0m\u001b[0;34m.\u001b[0m\u001b[0m__getattribute__\u001b[0m\u001b[0;34m(\u001b[0m\u001b[0mself\u001b[0m\u001b[0;34m,\u001b[0m \u001b[0mname\u001b[0m\u001b[0;34m)\u001b[0m\u001b[0;34m\u001b[0m\u001b[0;34m\u001b[0m\u001b[0m\n\u001b[0m\u001b[1;32m   5466\u001b[0m \u001b[0;34m\u001b[0m\u001b[0m\n\u001b[1;32m   5467\u001b[0m     \u001b[0;32mdef\u001b[0m \u001b[0m__setattr__\u001b[0m\u001b[0;34m(\u001b[0m\u001b[0mself\u001b[0m\u001b[0;34m,\u001b[0m \u001b[0mname\u001b[0m\u001b[0;34m:\u001b[0m \u001b[0mstr\u001b[0m\u001b[0;34m,\u001b[0m \u001b[0mvalue\u001b[0m\u001b[0;34m)\u001b[0m \u001b[0;34m->\u001b[0m \u001b[0;32mNone\u001b[0m\u001b[0;34m:\u001b[0m\u001b[0;34m\u001b[0m\u001b[0;34m\u001b[0m\u001b[0m\n",
      "\u001b[0;31mAttributeError\u001b[0m: 'DataFrame' object has no attribute 'mean_norm'"
     ]
    }
   ],
   "source": [
    "# Plots the normalized version of a column compared with the not normalized one\n",
    "\n",
    "def plot_norm(not_norm_series, norm_series, norm_type: str, bins_ = 20, not_norm_color='#e67e4d', norm_color='#e67eff', edgecolor_='black'):\n",
    "    \n",
    "    # defining some useful variables\n",
    "    # norm_min = int(round(norm_series.min()))\n",
    "    # norm_max = int(round(norm_series.max()))\n",
    "\n",
    "    norm_min = round(norm_series.min(), 2)\n",
    "    norm_max = round(norm_series.max(), 2)\n",
    "\n",
    "    \n",
    "    # Set the number of subplots and the fig dimensions\n",
    "    fig, ax = plt.subplots(1, 2, figsize = (15,7))\n",
    "\n",
    "    # defining the characterics of the not-normilized graph\n",
    "    ax[0].hist(not_norm_series, bins=bins_, color=not_norm_color, histtype='bar', edgecolor=edgecolor_)\n",
    "    ax[0].set_title(\"Not normalized\")\n",
    "    ax[0].set_xlabel('Ratings')\n",
    "    ax[0].set_ylabel('Frequency')\n",
    "\n",
    "    # defining the characterics of the normilized graph\n",
    "    ax[1].hist(norm_series, bins=bins_, color=norm_color, histtype='bar', edgecolor=edgecolor_)\n",
    "    ax[1].set_title(norm_type)\n",
    "    ax[1].set_xlabel(f'Ratings (normalized {norm_min} to {norm_max})')\n",
    "    ax[1].set_ylabel('Frequency')\n",
    "\n",
    "    # Set the ticks for x axis in normalized graph\n",
    "    plt.sca(ax[1])\n",
    "    plt.xticks(np.arange(norm_min, norm_max + 1, 1))\n",
    "\n",
    "    fig.show()\n",
    "\n",
    "def plot_compared_norms(first_norm, second_norm, first_norm_type: str, second_norm_type: str, bins_ = 20, \\\n",
    "    first_norm_color='blue',second_norm_color='darkorange', edgecolor_='white'): # F97306\n",
    "    min_range = round(np.array([first_norm.min(), second_norm.min()]).min(), 2)\n",
    "    max_range = round(np.array([first_norm.max(), second_norm.max()]).max(), 2)\n",
    "\n",
    "\n",
    "    # Set the fig dimensions\n",
    "    fig, graph = plt.subplots(figsize = (15, 8))\n",
    "\n",
    "    graph.hist(first_norm, bins = bins_, alpha = 0.7, color=first_norm_color, edgecolor = edgecolor_, label = first_norm_type)\n",
    "    graph.hist(df.mean_norm, bins = bins_, alpha = 0.7, color=second_norm_color, edgecolor = edgecolor_, label = second_norm_type)\n",
    "    graph.set_title(f'Comparison between {first_norm_type} and {second_norm_type}')\n",
    "    graph.legend()\n",
    "    graph.set_xlabel(f'Ratings (normalized {min_range} - {max_range})')\n",
    "\n",
    "    fig.show()\n",
    "\n",
    "plot_norm(df.avg_rating, df.minmax_norm_ratings, norm_type='Min-Max normalization')\n",
    "plot_norm(df.avg_rating, df.mean_norm_ratings, norm_type='Mean normalization')\n",
    "plot_compared_norms(df.minmax_norm_ratings, df.mean_norm_ratings, first_norm_type = 'Min-Max normalization', second_norm_type='Mean normalization')\n",
    "\n"
   ]
  },
  {
   "cell_type": "code",
   "execution_count": null,
   "metadata": {},
   "outputs": [],
   "source": []
  },
  {
   "cell_type": "code",
   "execution_count": null,
   "metadata": {},
   "outputs": [],
   "source": []
  }
 ]
}