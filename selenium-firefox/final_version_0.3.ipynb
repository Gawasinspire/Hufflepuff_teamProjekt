{
 "cells": [
  {
   "cell_type": "code",
   "execution_count": 1,
   "id": "changed-saying",
   "metadata": {},
   "outputs": [],
   "source": [
    "from selenium import webdriver\n",
    "import pandas as pd\n",
    "import numpy as np\n",
    "from selenium.webdriver.firefox.options import Options\n",
    "import time\n",
    "\n",
    "options = Options()\n",
    "options.headless = True\n"
   ]
  },
  {
   "cell_type": "code",
   "execution_count": 5,
   "id": "residential-swiss",
   "metadata": {},
   "outputs": [],
   "source": [
    "da = pd.read_csv('../links.csv')\n",
    "url_list = da['url'].tolist() "
   ]
  },
  {
   "cell_type": "code",
   "execution_count": 6,
   "id": "married-savings",
   "metadata": {},
   "outputs": [
    {
     "name": "stdout",
     "output_type": "stream",
     "text": [
      "0 1 time taken: 27.899693727493286 seconds ---\n"
     ]
    }
   ],
   "source": [
    "myDict1 = {}\n",
    "start_time = time.time()\n",
    "  \n",
    "for page_num in range(0, 2):\n",
    "    print(page_num,end = \" \")\n",
    "    browser = webdriver.Firefox(options=options, executable_path=\"./drivers/geckodriver\")\n",
    "    browser.get(url_list[page_num])\n",
    "    browser.find_element_by_partial_link_text(\"More Details...\").click()\n",
    "    title = browser.find_element_by_id('bookTitle').text\n",
    "    authorname = browser.find_element_by_class_name(\"authorName\").text \n",
    "    avg_rating = browser.find_element_by_xpath(\"/html/body/div[2]/div[3]/div[1]/div[2]/div[4]/div[1]/div[2]/div[2]/span[2]\").text\n",
    "    num_rating = browser.find_element_by_xpath(\"/html/body/div[2]/div[3]/div[1]/div[2]/div[4]/div[1]/div[2]/div[2]/a[2]\").text\n",
    "    num_review = browser.find_element_by_xpath(\"/html/body/div[2]/div[3]/div[1]/div[2]/div[4]/div[1]/div[2]/div[2]/a[3]\").text\n",
    "    details = browser.find_element_by_id(\"details\")\n",
    "    temp1 = details.text.split(\"\\n\")\n",
    "    \n",
    "    page = 0\n",
    "    series = 0\n",
    "    \n",
    "    # num rating\n",
    "    try:\n",
    "        num_rat = num_rating.split()[0]\n",
    "    except:\n",
    "        num_rat = 0\n",
    "    \n",
    "    # num review\n",
    "    try:\n",
    "        num_rev = num_review.split()[0]\n",
    "    except:\n",
    "        num_rev = 0\n",
    "\n",
    "    places = np.nan\n",
    "    awards = np.nan\n",
    "\n",
    "    # total_pages\n",
    "    try:\n",
    "        total_pages = [int(s) for s in temp1[0].split() if s.isdigit()]\n",
    "        total_pages = str(total_pages[0])\n",
    "    except IndexError:\n",
    "        total_pages = np.nan\n",
    "\n",
    "    # year\n",
    "    try:\n",
    "        year = [int(s) for s in temp1[1].split() if s.isdigit()]\n",
    "        ori_year = str(year[0]) \n",
    "    except IndexError:\n",
    "        ori_year = np.nan\n",
    "\n",
    "    # places\n",
    "    for i in range(len(temp1)):\n",
    "        if(temp1[i]==\"Setting\"):\n",
    "            places = temp1[i+1]\n",
    "        \n",
    "    # series\n",
    "    for i in range(len(temp1)):\n",
    "        if(temp1[i] == \"Series\"):\n",
    "            series = 1\n",
    "\n",
    "    # Awards\n",
    "    for i in range(len(temp1)):\n",
    "        if(temp1[i] == \"Literary Awards\"):\n",
    "            awards = temp1[i+1]\n",
    "    \n",
    "    # genre\n",
    "    genre = browser.find_elements_by_css_selector(\"div.left>a.bookPageGenreLink\")\n",
    "    temp2 = [i.text for i in genre]\n",
    "\n",
    "    try:\n",
    "        genre3 = temp2[0:3]\n",
    "    except IndexError:\n",
    "        genre3 = np.nan\n",
    "\n",
    "    myDict1[page_num] = (url_list[page_num],title, authorname, avg_rating, num_rat,  num_rev,  total_pages, ori_year, places, series, awards, genre3)\n",
    "    browser.close()\n",
    "\n",
    "print(\"time taken: %s seconds ---\" % (time.time() - start_time))\n",
    "df = pd.DataFrame.from_dict(myDict1, orient='index', columns=['url','title', 'authorname', 'avg_rating', 'num_rat', 'num_rev',  'total_pages', 'ori_year', 'places', 'series', 'awards', 'genre3'])\n",
    "df.to_csv('filename.csv')"
   ]
  },
  {
   "cell_type": "code",
   "execution_count": 9,
   "id": "square-faculty",
   "metadata": {},
   "outputs": [
    {
     "data": {
      "text/plain": [
       "url            False\n",
       "title          False\n",
       "authorname     False\n",
       "avg_rating     False\n",
       "num_rat        False\n",
       "num_rev        False\n",
       "total_pages    False\n",
       "ori_year       False\n",
       "places         False\n",
       "series         False\n",
       "awards          True\n",
       "genre3         False\n",
       "dtype: bool"
      ]
     },
     "execution_count": 9,
     "metadata": {},
     "output_type": "execute_result"
    }
   ],
   "source": []
  }
 ],
 "metadata": {
  "kernelspec": {
   "display_name": "Python 3",
   "language": "python",
   "name": "python3"
  },
  "language_info": {
   "codemirror_mode": {
    "name": "ipython",
    "version": 3
   },
   "file_extension": ".py",
   "mimetype": "text/x-python",
   "name": "python",
   "nbconvert_exporter": "python",
   "pygments_lexer": "ipython3",
   "version": "3.9.2"
  }
 },
 "nbformat": 4,
 "nbformat_minor": 5
}
