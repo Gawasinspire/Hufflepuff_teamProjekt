{
 "cells": [
  {
   "cell_type": "code",
   "execution_count": 1,
   "id": "sporting-stations",
   "metadata": {},
   "outputs": [],
   "source": [
    "import pandas as pd\n",
    "import numpy as np\n",
    "import matplotlib.pyplot as plt\n",
    "\n",
    "%matplotlib inline"
   ]
  },
  {
   "cell_type": "code",
   "execution_count": 13,
   "id": "copyrighted-rainbow",
   "metadata": {},
   "outputs": [
    {
     "data": {
      "text/html": [
       "<div>\n",
       "<style scoped>\n",
       "    .dataframe tbody tr th:only-of-type {\n",
       "        vertical-align: middle;\n",
       "    }\n",
       "\n",
       "    .dataframe tbody tr th {\n",
       "        vertical-align: top;\n",
       "    }\n",
       "\n",
       "    .dataframe thead th {\n",
       "        text-align: right;\n",
       "    }\n",
       "</style>\n",
       "<table border=\"1\" class=\"dataframe\">\n",
       "  <thead>\n",
       "    <tr style=\"text-align: right;\">\n",
       "      <th></th>\n",
       "      <th>Unnamed: 0</th>\n",
       "      <th>0</th>\n",
       "      <th>1</th>\n",
       "      <th>2</th>\n",
       "      <th>3</th>\n",
       "      <th>4</th>\n",
       "      <th>5</th>\n",
       "      <th>6</th>\n",
       "      <th>7</th>\n",
       "      <th>8</th>\n",
       "      <th>9</th>\n",
       "      <th>10</th>\n",
       "    </tr>\n",
       "  </thead>\n",
       "  <tbody>\n",
       "    <tr>\n",
       "      <th>0</th>\n",
       "      <td>0</td>\n",
       "      <td>https://www.goodreads.com//book/show/40605251-...</td>\n",
       "      <td>A Game of Thrones</td>\n",
       "      <td>George R.R. Martin</td>\n",
       "      <td>55,493 reviews</td>\n",
       "      <td>4.44</td>\n",
       "      <td>835</td>\n",
       "      <td>2005</td>\n",
       "      <td>The Lands of Ice and Fire</td>\n",
       "      <td>A Song of Ice and Fire #1</td>\n",
       "      <td>Nebula Award Nominee for Best Novel (1997), Lo...</td>\n",
       "      <td>['Fantasy', 'Fiction', 'Fantasy']</td>\n",
       "    </tr>\n",
       "    <tr>\n",
       "      <th>1</th>\n",
       "      <td>1</td>\n",
       "      <td>https://www.goodreads.com//book/show/21787.The...</td>\n",
       "      <td>J.R.R. Tolkien 4-Book Boxed Set: The Hobbit an...</td>\n",
       "      <td>J.R.R. Tolkien</td>\n",
       "      <td>1,836 reviews</td>\n",
       "      <td>4.60</td>\n",
       "      <td>1728</td>\n",
       "      <td>2012</td>\n",
       "      <td>Middle-earth</td>\n",
       "      <td>The Lord of the Rings #0-3, Middle-earth Universe</td>\n",
       "      <td>NaN</td>\n",
       "      <td>['Fantasy', 'Fiction', 'Classics']</td>\n",
       "    </tr>\n",
       "    <tr>\n",
       "      <th>2</th>\n",
       "      <td>2</td>\n",
       "      <td>https://www.goodreads.com//book/show/13812.Mag...</td>\n",
       "      <td>The Name of the Wind</td>\n",
       "      <td>Patrick Rothfuss</td>\n",
       "      <td>43,979 reviews</td>\n",
       "      <td>4.52</td>\n",
       "      <td>662</td>\n",
       "      <td>2007</td>\n",
       "      <td>Middle-earth</td>\n",
       "      <td>The Kingkiller Chronicle #1</td>\n",
       "      <td>Locus Award Nominee for Best First Novel and B...</td>\n",
       "      <td>['Fantasy', 'Fiction', 'Fantasy']</td>\n",
       "    </tr>\n",
       "    <tr>\n",
       "      <th>3</th>\n",
       "      <td>3</td>\n",
       "      <td>https://www.goodreads.com//book/show/40605251-...</td>\n",
       "      <td>The Way of Kings</td>\n",
       "      <td>Brandon Sanderson</td>\n",
       "      <td>22,141 reviews</td>\n",
       "      <td>4.61</td>\n",
       "      <td>1007</td>\n",
       "      <td>2010</td>\n",
       "      <td>Roshar</td>\n",
       "      <td>The Stormlight Archive #1, The Cosmere</td>\n",
       "      <td>Locus Award Nominee for Best Fantasy Novel (20...</td>\n",
       "      <td>['Fantasy', 'Fiction', 'Fantasy']</td>\n",
       "    </tr>\n",
       "    <tr>\n",
       "      <th>4</th>\n",
       "      <td>4</td>\n",
       "      <td>https://www.goodreads.com//book/show/21787.The...</td>\n",
       "      <td>The Chronicles of Narnia</td>\n",
       "      <td>C.S. Lewis</td>\n",
       "      <td>10,666 reviews</td>\n",
       "      <td>4.26</td>\n",
       "      <td>767</td>\n",
       "      <td>2002</td>\n",
       "      <td>London, England (United Kingdom)</td>\n",
       "      <td>The Chronicles of Narnia (Publication Order) #...</td>\n",
       "      <td>NaN</td>\n",
       "      <td>['Fantasy', 'Classics', 'Fiction']</td>\n",
       "    </tr>\n",
       "  </tbody>\n",
       "</table>\n",
       "</div>"
      ],
      "text/plain": [
       "   Unnamed: 0                                                  0  \\\n",
       "0           0  https://www.goodreads.com//book/show/40605251-...   \n",
       "1           1  https://www.goodreads.com//book/show/21787.The...   \n",
       "2           2  https://www.goodreads.com//book/show/13812.Mag...   \n",
       "3           3  https://www.goodreads.com//book/show/40605251-...   \n",
       "4           4  https://www.goodreads.com//book/show/21787.The...   \n",
       "\n",
       "                                                   1                   2  \\\n",
       "0                                  A Game of Thrones  George R.R. Martin   \n",
       "1  J.R.R. Tolkien 4-Book Boxed Set: The Hobbit an...      J.R.R. Tolkien   \n",
       "2                               The Name of the Wind    Patrick Rothfuss   \n",
       "3                                   The Way of Kings   Brandon Sanderson   \n",
       "4                           The Chronicles of Narnia          C.S. Lewis   \n",
       "\n",
       "                3     4     5     6                                 7  \\\n",
       "0  55,493 reviews  4.44   835  2005         The Lands of Ice and Fire   \n",
       "1   1,836 reviews  4.60  1728  2012                      Middle-earth   \n",
       "2  43,979 reviews  4.52   662  2007                      Middle-earth   \n",
       "3  22,141 reviews  4.61  1007  2010                            Roshar   \n",
       "4  10,666 reviews  4.26   767  2002  London, England (United Kingdom)   \n",
       "\n",
       "                                                   8  \\\n",
       "0                          A Song of Ice and Fire #1   \n",
       "1  The Lord of the Rings #0-3, Middle-earth Universe   \n",
       "2                        The Kingkiller Chronicle #1   \n",
       "3             The Stormlight Archive #1, The Cosmere   \n",
       "4  The Chronicles of Narnia (Publication Order) #...   \n",
       "\n",
       "                                                   9  \\\n",
       "0  Nebula Award Nominee for Best Novel (1997), Lo...   \n",
       "1                                                NaN   \n",
       "2  Locus Award Nominee for Best First Novel and B...   \n",
       "3  Locus Award Nominee for Best Fantasy Novel (20...   \n",
       "4                                                NaN   \n",
       "\n",
       "                                   10  \n",
       "0   ['Fantasy', 'Fiction', 'Fantasy']  \n",
       "1  ['Fantasy', 'Fiction', 'Classics']  \n",
       "2   ['Fantasy', 'Fiction', 'Fantasy']  \n",
       "3   ['Fantasy', 'Fiction', 'Fantasy']  \n",
       "4  ['Fantasy', 'Classics', 'Fiction']  "
      ]
     },
     "execution_count": 13,
     "metadata": {},
     "output_type": "execute_result"
    }
   ],
   "source": [
    "df = pd.read_csv('../TH_Data/100_rows.csv')\n",
    "df.head()"
   ]
  },
  {
   "cell_type": "code",
   "execution_count": 14,
   "id": "moving-marshall",
   "metadata": {},
   "outputs": [],
   "source": [
    "df['minmax_norm'] = 1 + (df['4'] - df['4'].min()) / (df['4'].max() - df['4'].min()) * 4"
   ]
  },
  {
   "cell_type": "code",
   "execution_count": 40,
   "id": "martial-protein",
   "metadata": {},
   "outputs": [
    {
     "data": {
      "text/plain": [
       "Text(0.5, 1.0, 'Normalized')"
      ]
     },
     "execution_count": 40,
     "metadata": {},
     "output_type": "execute_result"
    },
    {
     "data": {
      "image/png": "[encoded data removed]",
      "text/plain": [
       "<Figure size 1080x504 with 2 Axes>"
      ]
     },
     "metadata": {
      "needs_background": "light"
     },
     "output_type": "display_data"
    }
   ],
   "source": [
    "fig, ax = plt.subplots(1, 2, figsize = (15,7))\n",
    "\n",
    "\n",
    "ax[0].hist(df['4'], bins=30, color='#e67e4d', histtype='bar', edgecolor='black')\n",
    "ax[1].hist(df['minmax_norm'], bins=30, color='#e67eff', histtype='bar', edgecolor='black')\n",
    "ax[0].set_title(\"Not normalized\")\n",
    "ax[1].set_title(\"Normalized\")\n",
    "\n"
   ]
  },
  {
   "cell_type": "code",
   "execution_count": null,
   "id": "direct-account",
   "metadata": {},
   "outputs": [],
   "source": []
  },
  {
   "cell_type": "code",
   "execution_count": null,
   "id": "bright-amino",
   "metadata": {},
   "outputs": [],
   "source": []
  }
 ],
 "metadata": {
  "kernelspec": {
   "display_name": "Python 3.8.8 64-bit ('Strive': conda)",
   "language": "python",
   "name": "python388jvsc74a57bd036d735e4d74651b5843b8bf8671694cee2df4263d27e1ed8e6896ce3326ae1ff"
  },
  "language_info": {
   "codemirror_mode": {
    "name": "ipython",
    "version": 3
   },
   "file_extension": ".py",
   "mimetype": "text/x-python",
   "name": "python",
   "nbconvert_exporter": "python",
   "pygments_lexer": "ipython3",
   "version": "3.8.8"
  }
 },
 "nbformat": 4,
 "nbformat_minor": 5
}
